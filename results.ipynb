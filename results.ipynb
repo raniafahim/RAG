{
 "cells": [
  {
   "cell_type": "code",
   "execution_count": 1,
   "id": "5c1cb0f1-510b-4492-82b5-2f58f9a4b7ec",
   "metadata": {},
   "outputs": [
    {
     "name": "stdout",
     "output_type": "stream",
     "text": [
      "\u001b]11;?\u001b\\\u001b[6n\u001b[32;1mmc: \u001b[0m\u001b[32;1mConfiguration written to `/home/onyxia/.mc/config.json`. Please update your access credentials.\u001b[0;22m\n",
      "\u001b[32;1mmc: \u001b[0m\u001b[32;1mSuccessfully created `/home/onyxia/.mc/share`.\n",
      "\u001b[0m\u001b[32;1mmc: \u001b[0m\u001b[32;1mInitialized share uploads `/home/onyxia/.mc/share/uploads.json` file.\n",
      "\u001b[0m\u001b[32;1mmc: \u001b[0m\u001b[32;1mInitialized share downloads `/home/onyxia/.mc/share/downloads.json` file.\n",
      "...ma.sqlite3: 221.59 MiB / 221.59 MiB ┃▓▓▓▓▓▓▓▓▓▓▓▓▓▓▓▓▓▓▓▓▓▓▓┃ 182.67 MiB/s 1s\u001b[0;22m\u001b[0m\u001b[m\u001b[32;1m"
     ]
    }
   ],
   "source": [
    "!mc cp -r s3/$VAULT_TOP_DIR/Accords/chroma_db ."
   ]
  },
  {
   "cell_type": "code",
   "execution_count": 2,
   "id": "47881889-e35d-408d-92c8-4cc096b61d3f",
   "metadata": {},
   "outputs": [],
   "source": [
    "!uv pip install -q langchain==0.2.16 matplotlib langchain-community==0.2.16 langchain-huggingface==0.0.3 langchain-text-splitters==0.2.4 chromadb==0.5.3 langchain-chroma==0.1.3 pandas ipywidgets"
   ]
  },
  {
   "cell_type": "code",
   "execution_count": 3,
   "id": "021a52bc-23ce-4a81-acad-49f9af0ba137",
   "metadata": {},
   "outputs": [],
   "source": [
    "!uv pip install -q pyarrow"
   ]
  },
  {
   "cell_type": "code",
   "execution_count": 16,
   "id": "fd728cfb-8455-4a8d-9592-dec5e956ba01",
   "metadata": {},
   "outputs": [],
   "source": [
    "!uv pip install -q unidecode"
   ]
  },
  {
   "cell_type": "code",
   "execution_count": 4,
   "id": "20a2c6c9-0a47-4e05-84fa-388a8690819b",
   "metadata": {},
   "outputs": [],
   "source": [
    "import pandas as pd\n",
    "from langchain_huggingface import HuggingFaceEmbeddings\n",
    "from langchain.vectorstores import Chroma\n",
    "from langchain_chroma import Chroma\n",
    "from langchain.embeddings import OpenAIEmbeddings, OllamaEmbeddings\n",
    "from langchain.document_loaders import TextLoader\n",
    "from langchain.schema import Document, Generation, LLMResult\n",
    "from langchain.llms import Ollama, BaseLLM\n",
    "from langchain.chains import StuffDocumentsChain, RetrievalQA, LLMChain\n",
    "from langchain_core.prompts import PromptTemplate\n",
    "from langchain_community.llms import OpenAI\n",
    "from langchain_text_splitters import CharacterTextSplitter\n",
    "from langchain.chains import create_retrieval_chain\n",
    "from langchain.chains.combine_documents import create_stuff_documents_chain\n",
    "from langchain_core.prompts import ChatPromptTemplate\n",
    "from pathlib import Path\n",
    "import json\n",
    "import requests\n",
    "import re"
   ]
  },
  {
   "cell_type": "code",
   "execution_count": 17,
   "id": "1f251259-7083-4ca2-8519-fe9a2140a55d",
   "metadata": {},
   "outputs": [],
   "source": [
    "import unidecode\n"
   ]
  },
  {
   "cell_type": "code",
   "execution_count": 5,
   "id": "0a80ad9d-60a2-46c5-81d4-4c371ce0ac4e",
   "metadata": {},
   "outputs": [],
   "source": [
    "from glob import glob"
   ]
  },
  {
   "cell_type": "code",
   "execution_count": 6,
   "id": "875bb85f-3e5a-4a67-81c7-2967a86b11d4",
   "metadata": {},
   "outputs": [
    {
     "data": {
      "application/vnd.jupyter.widget-view+json": {
       "model_id": "1eb95c209d0a41efab91f6a8f7470b7e",
       "version_major": 2,
       "version_minor": 0
      },
      "text/plain": [
       "modules.json:   0%|          | 0.00/349 [00:00<?, ?B/s]"
      ]
     },
     "metadata": {},
     "output_type": "display_data"
    },
    {
     "data": {
      "application/vnd.jupyter.widget-view+json": {
       "model_id": "d2b65d1e58a5490593c7e89176055603",
       "version_major": 2,
       "version_minor": 0
      },
      "text/plain": [
       "config_sentence_transformers.json:   0%|          | 0.00/123 [00:00<?, ?B/s]"
      ]
     },
     "metadata": {},
     "output_type": "display_data"
    },
    {
     "data": {
      "application/vnd.jupyter.widget-view+json": {
       "model_id": "d9f5e260ffba4956875c911bd5bdcac5",
       "version_major": 2,
       "version_minor": 0
      },
      "text/plain": [
       "README.md:   0%|          | 0.00/15.8k [00:00<?, ?B/s]"
      ]
     },
     "metadata": {},
     "output_type": "display_data"
    },
    {
     "data": {
      "application/vnd.jupyter.widget-view+json": {
       "model_id": "db03ac11de174f2da4b5ecdc367be04c",
       "version_major": 2,
       "version_minor": 0
      },
      "text/plain": [
       "sentence_bert_config.json:   0%|          | 0.00/54.0 [00:00<?, ?B/s]"
      ]
     },
     "metadata": {},
     "output_type": "display_data"
    },
    {
     "data": {
      "application/vnd.jupyter.widget-view+json": {
       "model_id": "b746ee7128de4e77a171e22b416587a4",
       "version_major": 2,
       "version_minor": 0
      },
      "text/plain": [
       "config.json:   0%|          | 0.00/687 [00:00<?, ?B/s]"
      ]
     },
     "metadata": {},
     "output_type": "display_data"
    },
    {
     "data": {
      "application/vnd.jupyter.widget-view+json": {
       "model_id": "8c5108521b1c48d2bc0a8fdfaeb4610e",
       "version_major": 2,
       "version_minor": 0
      },
      "text/plain": [
       "pytorch_model.bin:   0%|          | 0.00/2.27G [00:00<?, ?B/s]"
      ]
     },
     "metadata": {},
     "output_type": "display_data"
    },
    {
     "data": {
      "application/vnd.jupyter.widget-view+json": {
       "model_id": "c8ecef7b5bae4d4190fa2023f1fedc3d",
       "version_major": 2,
       "version_minor": 0
      },
      "text/plain": [
       "model.safetensors:   0%|          | 0.00/2.27G [00:00<?, ?B/s]"
      ]
     },
     "metadata": {},
     "output_type": "display_data"
    },
    {
     "data": {
      "application/vnd.jupyter.widget-view+json": {
       "model_id": "052b8dc94e5743f5a54451a69fd6138c",
       "version_major": 2,
       "version_minor": 0
      },
      "text/plain": [
       "tokenizer_config.json:   0%|          | 0.00/444 [00:00<?, ?B/s]"
      ]
     },
     "metadata": {},
     "output_type": "display_data"
    },
    {
     "data": {
      "application/vnd.jupyter.widget-view+json": {
       "model_id": "dc85b1ae984b4fbcbd995d9ff49753dd",
       "version_major": 2,
       "version_minor": 0
      },
      "text/plain": [
       "sentencepiece.bpe.model:   0%|          | 0.00/5.07M [00:00<?, ?B/s]"
      ]
     },
     "metadata": {},
     "output_type": "display_data"
    },
    {
     "data": {
      "application/vnd.jupyter.widget-view+json": {
       "model_id": "2293d00e454c46ef8be2afc9d59b1f34",
       "version_major": 2,
       "version_minor": 0
      },
      "text/plain": [
       "tokenizer.json:   0%|          | 0.00/17.1M [00:00<?, ?B/s]"
      ]
     },
     "metadata": {},
     "output_type": "display_data"
    },
    {
     "data": {
      "application/vnd.jupyter.widget-view+json": {
       "model_id": "402139e6558b4fcf8f2f72db786f8808",
       "version_major": 2,
       "version_minor": 0
      },
      "text/plain": [
       "special_tokens_map.json:   0%|          | 0.00/964 [00:00<?, ?B/s]"
      ]
     },
     "metadata": {},
     "output_type": "display_data"
    },
    {
     "data": {
      "application/vnd.jupyter.widget-view+json": {
       "model_id": "61791090b3dd408b9c933927c9871774",
       "version_major": 2,
       "version_minor": 0
      },
      "text/plain": [
       "config.json:   0%|          | 0.00/191 [00:00<?, ?B/s]"
      ]
     },
     "metadata": {},
     "output_type": "display_data"
    }
   ],
   "source": [
    "class LocalOllamaLLM(BaseLLM):\n",
    "    api_url : str\n",
    "    def _generate(self, prompt, stop):\n",
    "        response = requests.post(f\"{self.api_url}/api/generate\", json={\"model\": \"llama3.1\", \"prompt\": str(prompt) })\n",
    "        response.raise_for_status()\n",
    "        response_text=''.join([json.loads(line)['response'] for line in response.text.splitlines()])\n",
    "        generations=[]\n",
    "        generations.append([Generation(text=response_text)])\n",
    "        return LLMResult(generations=generations)\n",
    "\n",
    "\n",
    "    def _llm_type(self):\n",
    "        return \"local\"  # Or whatever type is appropriate for your local setup\n",
    "\n",
    "llm = LocalOllamaLLM(api_url=\"http://127.0.0.1:11434\")\n",
    "\n",
    "embedder = HuggingFaceEmbeddings(model_name=\"BAAI/bge-m3\")\n",
    "\n",
    "system_prompt = (\n",
    "    \" Répondez à la question posée \"\n",
    "    \" Utilisez le contexte (sélection des meilleurs paragraphes liés à la question) donné pour répondre à la question \"\n",
    "    \" Répondez en bullet point comme ceci en copie-collant (sans reformulation) les phrases exactes issues du contexte qui t'ont permis de répondre. : \"\n",
    "    \" ### Règles : \"\n",
    "    \" * (règle 1) \"\n",
    "    \" * (règle 2) \"\n",
    "    \" Si la réponse ne se trouve pas dans le contexte, répondez par 'Null'\"\n",
    "    \n",
    "\n",
    "    \" Contexte : {context}  \"\n",
    ")\n",
    "\n",
    "\n",
    "\n",
    "\n",
    "prompt = ChatPromptTemplate.from_messages(\n",
    "    [\n",
    "        (\"system\", system_prompt),\n",
    "        (\"human\", \"{input}\"),\n",
    "    ]\n",
    ")\n",
    "question_answer_chain = create_stuff_documents_chain(llm, prompt)"
   ]
  },
  {
   "cell_type": "markdown",
   "id": "2c4fe458-1c51-4698-b689-ab9e81708b12",
   "metadata": {},
   "source": [
    "\"\"\" system_prompt_bis = (\n",
    "    \" Répondez à la question posée \"\n",
    "    \" Utilisez le contexte (sélection des meilleurs paragraphes liés à la question) donné pour répondre à la question \"\n",
    "    \"Répondez comme ceci :\"\n",
    "    \"1. Un objet JSON avec les champs suivants :\"\n",
    "     \" - contingent_annuel : nombre entier en jour par année (ou null s’il est non défini ou non déductible),\"\n",
    "     \" - regle_majoration : true ou false selon s’il existe des règles de majoration des heures supplémentaires,\"\n",
    "     \"- repos_compensateur_possible : true ou false selon que le paiement des heures supplémentaires peut être remplacé par un repos compensateur.\"\n",
    "    \"2. Ensuite, réécrire les phrases extraites du tete qui ont permi de répondre à ces questions\"\n",
    "    \" Commencez impérativement ta réponse par la section JSON, puis ajoutez l’explication.\"\n",
    "    \n",
    "    #\" Si la réponse ne se trouve pas dans le contexte, répondez par 'Non'\"\n",
    "    \" Contexte : {context}  \n",
    ")\n",
    "\"\"\"\n",
    "\"\"\"\n",
    "system_prompt_bis = (\n",
    "    \"Tu es un assistant chargé d'extraire des informations à partir d'un contexte fourni. \"\n",
    "    \"Ta tâche est de répondre à des questions en produisant un objet JSON unique avec des champs standardisés. \"\n",
    "    \"Voici comment structurer ta réponse :\\n\\n\"\n",
    "    Ta réponse doit toujours être structurée sous forme de JSON avec les champs suivants :\\n\"\n",
    "    \"- contingent_annuel : un nombre entier représentant le contingent annuel d'heures supplémentaires (en heures). \"\n",
    "    \"Voici le contexte : {context}\"\n",
    ")\n",
    "\"\"\"\n",
    "\n",
    "system_prompt_bis = (\n",
    "        \"Tu es un assistant intelligent chargé d'extraire des informations précises à partir d'un contexte donné. \"\n",
    "        \"Ta tâche est de répondre à une question spécifique en produisant uniquement un objet JSON nommé `variable`, avec des champs standardisés.\\n\\n\"\n",
    "        \"Tu dois retourner un JSON structuré sous la forme suivante :\\n\"\n",
    "        \"variable = {{\\n\"\n",
    "            '  \"contingent_annuel\": <valeur entière en heures ou null si non précisé>\\n'\n",
    "        \"}}\\n\\n\"\n",
    "        \"Important :\\n\"\n",
    "        \"- La réponse doit être uniquement le JSON\"\n",
    "        \"- Si le contingent annuel n’est pas clairement indiqué dans le contexte, la valeur doit être `null` (sans guillemets).\\n\"\n",
    "        \"- Ne fais aucun commentaire ni explication autour du JSON.\\n\\n\"\n",
    "        \"Voici le contexte : {context}\"\n",
    ")\n",
    "\n",
    "\n",
    "\n",
    "\n",
    "system_prompt_bis = (\n",
    "    \"Tu es un assistant intelligent chargé d'extraire une information dans un contexte donné. \"\n",
    "    \"Ta tâche est de répondre à la question suivante : « À combien est fixé le contingent d’heures supplémentaires ? »\\n\\n\"\n",
    "    \"Tu dois répondre uniquement par un JSON au format strict suivant :\\n\"\n",
    "    \"{{\\n\"\n",
    "    '  \"contingent_annuel\": <valeur numérique entière ou null>\\n'\n",
    "    \"}}\\n\\n\"\n",
    "    \"- Si l’information n’est pas présente, mets la valeur `null` (sans guillemets).\\n\"\n",
    "    \"- Ne produis aucun commentaire, explication ou texte hors du JSON.\\n\\n\"\n",
    "    \"Contexte : {context}\"\n",
    ")\n",
    "\n",
    "\n",
    "\n",
    "system_prompt_bis = (\n",
    "    \"Tu es un assistant intelligent chargé d'extraire une information dans un contexte donné. \"\n",
    "    \"Ta tâche est de répondre à la question suivante : « À combien est fixé le contingent d’heures supplémentaires ? »\\n\\n\"\n",
    "    \"Tu dois répondre uniquement par un JSON au format strict suivant :\\n\"\n",
    "    \"{{\\n\"\n",
    "    '  \"contingent_annuel\": <valeur numérique entière ou null>\\n'\n",
    "    \"}}\\n\\n\"\n",
    "    \"- Si l’information n’est pas présente, indique la valeur `null` (sans guillemets).\\n\"\n",
    "    \"- Ne produis aucun commentaire, explication ou texte hors du JSON.\\n\\n\"\n",
    "    \"Attention : le **contingent d’heures supplémentaires** (également appelé **contingent annuel d’heures supplémentaires** ou parfois **quota d’heures supplémentaires**) \"\n",
    "    \"désigne le **nombre maximal d’heures supplémentaires qu’un salarié est autorisé à effectuer sur une année**.\\n\"\n",
    "    \"Il **ne s’agit pas** du seuil hebdomadaire à partir duquel une heure devient supplémentaire.\\n\"\n",
    "    \"Par exemple, une phrase comme : « Constituent des heures supplémentaires celles effectuées au-delà de 37 heures » ne permet pas d’identifier le contingent annuel et doit conduire à renvoyer `null`.\\n\"\n",
    "    \" Mets `null` si l'information ne concerne **pas strictement** le contingent annuel d’heures supplémentaires.\\n\\n\"\n",
    "    \"Contexte : {context}\"\n",
    ")\n"
   ]
  },
  {
   "cell_type": "code",
   "execution_count": 7,
   "id": "b6397eb4-f4d1-401e-8748-a377a39c2702",
   "metadata": {},
   "outputs": [],
   "source": [
    "system_prompt_bis = (\n",
    "    \"Tu es un assistant intelligent chargé d'extraire une information dans un texte.\\n\"\n",
    "    \"Réponds uniquement par un JSON au format suivant :\\n\"\n",
    "    \"{{\\n\"\n",
    "    '  \"contingent_annuel\": <valeur numérique entière ou null>\\n'\n",
    "    \"}}\\n\\n\"\n",
    "    \"Le contingent annuel d’heures supplémentaires est le nombre total d’heures supplémentaires autorisées pour un salarié sur une année.\\n\"\n",
    "    \"Ignore toute autre information comme le seuil de déclenchemnt des heures supplmémentaires ou la durée annuelle de travail de référence.\\n\"\n",
    "    \"Si l’information n’est pas clairement donnée, réponds avec null.\\n\\n\"\n",
    "    \"Contexte : {context}\"\n",
    ")\n",
    "\n",
    "prompt_bis = ChatPromptTemplate.from_messages(\n",
    "    [\n",
    "        (\"system\", system_prompt_bis),\n",
    "        (\"human\", \"{input}\"),\n",
    "    ]\n",
    ")\n",
    "question_answer_chain_bis= create_stuff_documents_chain(llm, prompt_bis)"
   ]
  },
  {
   "cell_type": "code",
   "execution_count": 7,
   "id": "4d6faae5-564b-462b-af9f-f7babfbb9500",
   "metadata": {},
   "outputs": [],
   "source": [
    "df = pd.read_parquet(\"data/echantillon_1000_hs_2024_TOC.parquet\")\n",
    "df = df.rename(columns={\"numdossier_new\":\"numdossier\"})\n",
    "df= df.set_index(\"numdossier\")"
   ]
  },
  {
   "cell_type": "code",
   "execution_count": 9,
   "id": "67382435-8394-4fdd-811e-2630761c314a",
   "metadata": {},
   "outputs": [
    {
     "data": {
      "text/html": [
       "<div>\n",
       "<style scoped>\n",
       "    .dataframe tbody tr th:only-of-type {\n",
       "        vertical-align: middle;\n",
       "    }\n",
       "\n",
       "    .dataframe tbody tr th {\n",
       "        vertical-align: top;\n",
       "    }\n",
       "\n",
       "    .dataframe thead th {\n",
       "        text-align: right;\n",
       "    }\n",
       "</style>\n",
       "<table border=\"1\" class=\"dataframe\">\n",
       "  <thead>\n",
       "    <tr style=\"text-align: right;\">\n",
       "      <th></th>\n",
       "      <th>accorddocx</th>\n",
       "      <th>txt_trim_list</th>\n",
       "      <th>extracted_summary</th>\n",
       "    </tr>\n",
       "    <tr>\n",
       "      <th>numdossier</th>\n",
       "      <th></th>\n",
       "      <th></th>\n",
       "      <th></th>\n",
       "    </tr>\n",
       "  </thead>\n",
       "  <tbody>\n",
       "    <tr>\n",
       "      <th>T00724060165</th>\n",
       "      <td>\\n\\nACCORD COLLECTIF D’ENTREPRISE\\n \\nEntre \\n...</td>\n",
       "      <td>[, , ACCORD COLLECTIF D’ENTREPRISE,  , Entre ,...</td>\n",
       "      <td>[ACCORD COLLECTIF D’ENTREPRISE, PREAMBULE,   ...</td>\n",
       "    </tr>\n",
       "    <tr>\n",
       "      <th>T03324062903</th>\n",
       "      <td>\\t\\t\\n\\t\\nACCORD D’ENTREPRISE RELATIF A L’ORGA...</td>\n",
       "      <td>[\\t\\t, \\t, ACCORD D’ENTREPRISE RELATIF A L’ORG...</td>\n",
       "      <td>[ACCORD D’ENTREPRISE RELATIF A L’ORGANISATION ...</td>\n",
       "    </tr>\n",
       "    <tr>\n",
       "      <th>T07424060533</th>\n",
       "      <td>AVENANT N°2 DE L’ACCORD COLLECTIF D’ENTREPRISE...</td>\n",
       "      <td>[AVENANT N°2 DE L’ACCORD COLLECTIF D’ENTREPRIS...</td>\n",
       "      <td>[AVENANT N°2 DE L’ACCORD COLLECTIF D’ENTREPRIS...</td>\n",
       "    </tr>\n",
       "    <tr>\n",
       "      <th>T03224060321</th>\n",
       "      <td>\\n\\nACCORD D’ENTREPRISE SUR LES HEURES SUPPLEM...</td>\n",
       "      <td>[, , ACCORD D’ENTREPRISE SUR LES HEURES SUPPLE...</td>\n",
       "      <td>[ACCORD D’ENTREPRISE SUR LES HEURES SUPPLEMENT...</td>\n",
       "    </tr>\n",
       "    <tr>\n",
       "      <th>T06724061948</th>\n",
       "      <td>\\naccord d’entreprise \\nrelatif au contingent ...</td>\n",
       "      <td>[, accord d’entreprise , relatif au contingent...</td>\n",
       "      <td>[accord d’entreprise , relatif au contingent d...</td>\n",
       "    </tr>\n",
       "    <tr>\n",
       "      <th>...</th>\n",
       "      <td>...</td>\n",
       "      <td>...</td>\n",
       "      <td>...</td>\n",
       "    </tr>\n",
       "    <tr>\n",
       "      <th>T07424060477</th>\n",
       "      <td>ACCORD COLLECTIF INSTITUANT UN AMENAGEMENT DU ...</td>\n",
       "      <td>[ACCORD COLLECTIF INSTITUANT UN AMENAGEMENT DU...</td>\n",
       "      <td>[ACCORD COLLECTIF INSTITUANT UN AMENAGEMENT DU...</td>\n",
       "    </tr>\n",
       "    <tr>\n",
       "      <th>T06224062102</th>\n",
       "      <td>\\t\\nACCORD D’ENTREPRISE SUR L’AMENAGEMENT DU T...</td>\n",
       "      <td>[\\t, ACCORD D’ENTREPRISE SUR L’AMENAGEMENT DU ...</td>\n",
       "      <td>[ACCORD D’ENTREPRISE SUR L’AMENAGEMENT DU TEMP...</td>\n",
       "    </tr>\n",
       "    <tr>\n",
       "      <th>T05124061033</th>\n",
       "      <td>\\n\\n\\nACCORD SUR LES MODALITES D’ORGANISATION ...</td>\n",
       "      <td>[, , , ACCORD SUR LES MODALITES D’ORGANISATION...</td>\n",
       "      <td>[ACCORD SUR LES MODALITES D’ORGANISATION DU TE...</td>\n",
       "    </tr>\n",
       "    <tr>\n",
       "      <th>T06924065866</th>\n",
       "      <td>\\n\\nAccord d’entreprise relatif à la durée, l...</td>\n",
       "      <td>[ , , Accord d’entreprise relatif à la durée, ...</td>\n",
       "      <td>[Accord d’entreprise relatif à la durée, l’amé...</td>\n",
       "    </tr>\n",
       "    <tr>\n",
       "      <th>T08824060676</th>\n",
       "      <td>\\nAccord sur les conditions et les modalités d...</td>\n",
       "      <td>[, Accord sur les conditions et les modalités ...</td>\n",
       "      <td>[Accord sur les conditions et les modalités de...</td>\n",
       "    </tr>\n",
       "  </tbody>\n",
       "</table>\n",
       "<p>1000 rows × 3 columns</p>\n",
       "</div>"
      ],
      "text/plain": [
       "                                                     accorddocx  \\\n",
       "numdossier                                                        \n",
       "T00724060165  \\n\\nACCORD COLLECTIF D’ENTREPRISE\\n \\nEntre \\n...   \n",
       "T03324062903  \\t\\t\\n\\t\\nACCORD D’ENTREPRISE RELATIF A L’ORGA...   \n",
       "T07424060533  AVENANT N°2 DE L’ACCORD COLLECTIF D’ENTREPRISE...   \n",
       "T03224060321  \\n\\nACCORD D’ENTREPRISE SUR LES HEURES SUPPLEM...   \n",
       "T06724061948  \\naccord d’entreprise \\nrelatif au contingent ...   \n",
       "...                                                         ...   \n",
       "T07424060477  ACCORD COLLECTIF INSTITUANT UN AMENAGEMENT DU ...   \n",
       "T06224062102  \\t\\nACCORD D’ENTREPRISE SUR L’AMENAGEMENT DU T...   \n",
       "T05124061033  \\n\\n\\nACCORD SUR LES MODALITES D’ORGANISATION ...   \n",
       "T06924065866   \\n\\nAccord d’entreprise relatif à la durée, l...   \n",
       "T08824060676  \\nAccord sur les conditions et les modalités d...   \n",
       "\n",
       "                                                  txt_trim_list  \\\n",
       "numdossier                                                        \n",
       "T00724060165  [, , ACCORD COLLECTIF D’ENTREPRISE,  , Entre ,...   \n",
       "T03324062903  [\\t\\t, \\t, ACCORD D’ENTREPRISE RELATIF A L’ORG...   \n",
       "T07424060533  [AVENANT N°2 DE L’ACCORD COLLECTIF D’ENTREPRIS...   \n",
       "T03224060321  [, , ACCORD D’ENTREPRISE SUR LES HEURES SUPPLE...   \n",
       "T06724061948  [, accord d’entreprise , relatif au contingent...   \n",
       "...                                                         ...   \n",
       "T07424060477  [ACCORD COLLECTIF INSTITUANT UN AMENAGEMENT DU...   \n",
       "T06224062102  [\\t, ACCORD D’ENTREPRISE SUR L’AMENAGEMENT DU ...   \n",
       "T05124061033  [, , , ACCORD SUR LES MODALITES D’ORGANISATION...   \n",
       "T06924065866  [ , , Accord d’entreprise relatif à la durée, ...   \n",
       "T08824060676  [, Accord sur les conditions et les modalités ...   \n",
       "\n",
       "                                              extracted_summary  \n",
       "numdossier                                                       \n",
       "T00724060165  [ACCORD COLLECTIF D’ENTREPRISE, PREAMBULE,   ...  \n",
       "T03324062903  [ACCORD D’ENTREPRISE RELATIF A L’ORGANISATION ...  \n",
       "T07424060533  [AVENANT N°2 DE L’ACCORD COLLECTIF D’ENTREPRIS...  \n",
       "T03224060321  [ACCORD D’ENTREPRISE SUR LES HEURES SUPPLEMENT...  \n",
       "T06724061948  [accord d’entreprise , relatif au contingent d...  \n",
       "...                                                         ...  \n",
       "T07424060477  [ACCORD COLLECTIF INSTITUANT UN AMENAGEMENT DU...  \n",
       "T06224062102  [ACCORD D’ENTREPRISE SUR L’AMENAGEMENT DU TEMP...  \n",
       "T05124061033  [ACCORD SUR LES MODALITES D’ORGANISATION DU TE...  \n",
       "T06924065866  [Accord d’entreprise relatif à la durée, l’amé...  \n",
       "T08824060676  [Accord sur les conditions et les modalités de...  \n",
       "\n",
       "[1000 rows x 3 columns]"
      ]
     },
     "execution_count": 9,
     "metadata": {},
     "output_type": "execute_result"
    }
   ],
   "source": [
    "df"
   ]
  },
  {
   "cell_type": "code",
   "execution_count": 10,
   "id": "c5c71104-6592-4512-a144-87ac34377c7b",
   "metadata": {},
   "outputs": [],
   "source": [
    "vector_store = Chroma(embedding_function=embedder,persist_directory=\"./chroma_db\")"
   ]
  },
  {
   "cell_type": "code",
   "execution_count": 11,
   "id": "46275008-976d-402a-b7b2-8d96f26a5376",
   "metadata": {},
   "outputs": [],
   "source": [
    "Q1= \"À combien est fixé le contingent d’heures supplémentaires ? \""
   ]
  },
  {
   "cell_type": "code",
   "execution_count": 12,
   "id": "0bd73789-a3e2-459d-aac1-2d9e3394589e",
   "metadata": {},
   "outputs": [],
   "source": [
    "def search_and_invoke_llm(vector_store, numdossier, query, question_answer_chain, k=5):\n",
    "    if k == 0:\n",
    "        print(f\"Échec de la recherche pour le dossier {numdossier}\")\n",
    "        return None\n",
    "\n",
    "    try:\n",
    "        retriever = vector_store.as_retriever(\n",
    "            search_kwargs={\n",
    "                \"k\": k,\n",
    "                \"filter\": {\"numdossier\": str(numdossier)}\n",
    "            }\n",
    "        )\n",
    "        \n",
    "        retrieved_docs = retriever.invoke(query)\n",
    "        chain = create_retrieval_chain(retriever, question_answer_chain)\n",
    "        result = chain.invoke({\"input\": query})\n",
    "\n",
    "        return {\n",
    "            \"answer\": result.get(\"answer\", \"\"),\n",
    "            \"context\": [doc.page_content for doc in retrieved_docs]\n",
    "        }\n",
    "\n",
    "    except Exception as e:\n",
    "        print(f\"Erreur avec k={k}, tentative avec k={k-1} pour dossier {numdossier} : {e}\")\n",
    "        return search_and_invoke_llm(vector_store, numdossier, query, question_answer_chain, k=k-1)\n",
    "        \n",
    "def save_results(df, path, question_answer_chain): \n",
    "    Path(path).mkdir(exist_ok=True)\n",
    "    already_done = {el.split(\"/\")[1].split(\".\")[0] for el in glob(f\"{path}/*.json\")}\n",
    "\n",
    "    for index, row in df.iterrows():\n",
    "        if str(index) not in already_done:\n",
    "            numdossier = str(index)\n",
    "\n",
    "            result_json = {\n",
    "                \"num_dossier\": numdossier,\n",
    "                \"responses\": {},\n",
    "                \"context\": {}\n",
    "            }\n",
    "\n",
    "            result = search_and_invoke_llm(vector_store, numdossier, Q1, question_answer_chain, k=2)\n",
    "\n",
    "            if result:\n",
    "                result_json[\"responses\"][Q1] = result.get(\"answer\", \"\")\n",
    "                result_json[\"context\"][Q1] = result.get(\"context\", [])\n",
    "            else:\n",
    "                result_json[\"responses\"][Q1] = None\n",
    "                result_json[\"context\"][Q1] = []\n",
    "\n",
    "            with open(f\"{path}/{numdossier}.json\", \"w\", encoding=\"utf-8\") as f:\n",
    "                json.dump(result_json, f, indent=2, ensure_ascii=False)\n"
   ]
  },
  {
   "cell_type": "code",
   "execution_count": 13,
   "id": "db5ebf7b-270a-4d4d-9de0-ba8daa562bde",
   "metadata": {
    "scrolled": true
   },
   "outputs": [
    {
     "name": "stdout",
     "output_type": "stream",
     "text": [
      "Get:1 https://apt.postgresql.org/pub/repos/apt jammy-pgdg InRelease [129 kB]\n",
      "Get:2 http://security.ubuntu.com/ubuntu jammy-security InRelease [129 kB]      \u001b[0m\u001b[33m\n",
      "Get:3 http://archive.ubuntu.com/ubuntu jammy InRelease [270 kB]                \u001b[0m\n",
      "Get:4 https://developer.download.nvidia.com/compute/cuda/repos/ubuntu2204/x86_64  InRelease [1,581 B]\n",
      "Get:5 https://apt.postgresql.org/pub/repos/apt jammy-pgdg/main amd64 Packages [614 kB]3m\n",
      "Get:6 https://developer.download.nvidia.com/compute/cuda/repos/ubuntu2204/x86_64  Packages [1,798 kB]\n",
      "Get:7 http://archive.ubuntu.com/ubuntu jammy-updates InRelease [128 kB]        \u001b[0m\u001b[33m\n",
      "Get:8 https://ppa.launchpadcontent.net/git-core/ppa/ubuntu jammy InRelease [24.6 kB]\n",
      "Get:9 http://security.ubuntu.com/ubuntu jammy-security/restricted amd64 Packages [4,476 kB]\n",
      "Get:10 https://ppa.launchpadcontent.net/ubuntugis/ppa/ubuntu jammy InRelease [24.6 kB]\n",
      "Get:11 http://archive.ubuntu.com/ubuntu jammy-backports InRelease [127 kB]     \u001b[0m\u001b[33m\n",
      "Get:12 http://archive.ubuntu.com/ubuntu jammy/universe amd64 Packages [17.5 MB]\u001b[0m\u001b[33m\n",
      "Get:13 https://ppa.launchpadcontent.net/git-core/ppa/ubuntu jammy/main amd64 Packages [4,111 B]\n",
      "Get:14 https://ppa.launchpadcontent.net/ubuntugis/ppa/ubuntu jammy/main amd64 Packages [75.1 kB]\n",
      "Get:15 http://security.ubuntu.com/ubuntu jammy-security/multiverse amd64 Packages [47.7 kB]\n",
      "Get:16 http://security.ubuntu.com/ubuntu jammy-security/universe amd64 Packages [1,250 kB]\n",
      "Get:17 http://security.ubuntu.com/ubuntu jammy-security/main amd64 Packages [2,986 kB]3m\n",
      "Get:18 http://archive.ubuntu.com/ubuntu jammy/main amd64 Packages [1,792 kB]   \u001b[0m\u001b[33m\n",
      "Get:19 http://archive.ubuntu.com/ubuntu jammy/multiverse amd64 Packages [266 kB]\n",
      "Get:20 http://archive.ubuntu.com/ubuntu jammy/restricted amd64 Packages [164 kB]\n",
      "Get:21 http://archive.ubuntu.com/ubuntu jammy-updates/multiverse amd64 Packages [55.7 kB]\n",
      "Get:22 http://archive.ubuntu.com/ubuntu jammy-updates/universe amd64 Packages [1,557 kB]\n",
      "Get:23 http://archive.ubuntu.com/ubuntu jammy-updates/main amd64 Packages [3,296 kB]\n",
      "Get:24 http://archive.ubuntu.com/ubuntu jammy-updates/restricted amd64 Packages [4,630 kB]\n",
      "Get:25 http://archive.ubuntu.com/ubuntu jammy-backports/universe amd64 Packages [35.2 kB]\n",
      "Get:26 http://archive.ubuntu.com/ubuntu jammy-backports/main amd64 Packages [83.2 kB]\n",
      "Fetched 41.4 MB in 4s (10.4 MB/s)[33m                        \u001b[0m\u001b[33m\n",
      "Reading package lists... Done\n",
      "Building dependency tree... Done\n",
      "Reading state information... Done\n",
      "55 packages can be upgraded. Run 'apt list --upgradable' to see them.\n",
      "\u001b[1;33mW: \u001b[0mhttps://apt.postgresql.org/pub/repos/apt/dists/jammy-pgdg/InRelease: Key is stored in legacy trusted.gpg keyring (/etc/apt/trusted.gpg), see the DEPRECATION section in apt-key(8) for details.\u001b[0m\n",
      "Reading package lists... Done\n",
      "Building dependency tree... Done\n",
      "Reading state information... Done\n",
      "The following additional packages will be installed:\n",
      "  pci.ids usb.ids\n",
      "The following NEW packages will be installed:\n",
      "  lshw pci.ids usb.ids\n",
      "0 upgraded, 3 newly installed, 0 to remove and 55 not upgraded.\n",
      "Need to get 791 kB of archives.\n",
      "After this operation, 2,988 kB of additional disk space will be used.\n",
      "Get:1 http://archive.ubuntu.com/ubuntu jammy/main amd64 lshw amd64 02.19.git.2021.06.19.996aaad9c7-2build1 [321 kB]\n",
      "Get:2 http://archive.ubuntu.com/ubuntu jammy-updates/main amd64 pci.ids all 0.0~2022.01.22-1ubuntu0.1 [251 kB]\n",
      "Get:3 http://archive.ubuntu.com/ubuntu jammy/main amd64 usb.ids all 2022.04.02-1 [219 kB]\n",
      "Fetched 791 kB in 1s (975 kB/s)  \u001b[0m\u001b[33m\n",
      "debconf: delaying package configuration, since apt-utils is not installed\n",
      "\n",
      "\u001b7\u001b[0;23r\u001b8\u001b[1ASelecting previously unselected package lshw.\n",
      "(Reading database ... 51266 files and directories currently installed.)\n",
      "Preparing to unpack .../lshw_02.19.git.2021.06.19.996aaad9c7-2build1_amd64.deb ...\n",
      "\u001b7\u001b[24;0f\u001b[42m\u001b[30mProgress: [  0%]\u001b[49m\u001b[39m [..........................................................] \u001b8\u001b7\u001b[24;0f\u001b[42m\u001b[30mProgress: [  8%]\u001b[49m\u001b[39m [####......................................................] \u001b8Unpacking lshw (02.19.git.2021.06.19.996aaad9c7-2build1) ...\n",
      "\u001b7\u001b[24;0f\u001b[42m\u001b[30mProgress: [ 15%]\u001b[49m\u001b[39m [########..................................................] \u001b8Selecting previously unselected package pci.ids.\n",
      "Preparing to unpack .../pci.ids_0.0~2022.01.22-1ubuntu0.1_all.deb ...\n",
      "\u001b7\u001b[24;0f\u001b[42m\u001b[30mProgress: [ 23%]\u001b[49m\u001b[39m [#############.............................................] \u001b8Unpacking pci.ids (0.0~2022.01.22-1ubuntu0.1) ...\n",
      "\u001b7\u001b[24;0f\u001b[42m\u001b[30mProgress: [ 31%]\u001b[49m\u001b[39m [#################.........................................] \u001b8Selecting previously unselected package usb.ids.\n",
      "Preparing to unpack .../usb.ids_2022.04.02-1_all.deb ...\n",
      "\u001b7\u001b[24;0f\u001b[42m\u001b[30mProgress: [ 38%]\u001b[49m\u001b[39m [######################....................................] \u001b8Unpacking usb.ids (2022.04.02-1) ...\n",
      "\u001b7\u001b[24;0f\u001b[42m\u001b[30mProgress: [ 46%]\u001b[49m\u001b[39m [##########################................................] \u001b8Setting up pci.ids (0.0~2022.01.22-1ubuntu0.1) ...\n",
      "\u001b7\u001b[24;0f\u001b[42m\u001b[30mProgress: [ 54%]\u001b[49m\u001b[39m [###############################...........................] \u001b8\u001b7\u001b[24;0f\u001b[42m\u001b[30mProgress: [ 62%]\u001b[49m\u001b[39m [###################################.......................] \u001b8Setting up lshw (02.19.git.2021.06.19.996aaad9c7-2build1) ...\n",
      "\u001b7\u001b[24;0f\u001b[42m\u001b[30mProgress: [ 69%]\u001b[49m\u001b[39m [########################################..................] \u001b8\u001b7\u001b[24;0f\u001b[42m\u001b[30mProgress: [ 77%]\u001b[49m\u001b[39m [############################################..............] \u001b8Setting up usb.ids (2022.04.02-1) ...\n",
      "\u001b7\u001b[24;0f\u001b[42m\u001b[30mProgress: [ 85%]\u001b[49m\u001b[39m [#################################################.........] \u001b8\u001b7\u001b[24;0f\u001b[42m\u001b[30mProgress: [ 92%]\u001b[49m\u001b[39m [#####################################################.....] \u001b8Processing triggers for man-db (2.10.2-1) ...\n",
      "\n",
      "\u001b7\u001b[0;24r\u001b8\u001b[1A\u001b[J"
     ]
    }
   ],
   "source": [
    "!sudo apt update && sudo apt install --yes lshw"
   ]
  },
  {
   "cell_type": "code",
   "execution_count": 14,
   "id": "6174379a-1904-4b36-8f21-4c6a20e77cbf",
   "metadata": {},
   "outputs": [
    {
     "name": "stdout",
     "output_type": "stream",
     "text": [
      ">>> Installing ollama to /usr/local\n",
      ">>> Downloading Linux amd64 bundle\n",
      "######################################################################## 100.0%\n",
      ">>> Creating ollama user...\n",
      ">>> Adding ollama user to video group...\n",
      ">>> Adding current user to ollama group...\n",
      ">>> Creating ollama systemd service...\n",
      "\u001b[1m\u001b[31mWARNING:\u001b[m systemd is not running\n",
      ">>> NVIDIA GPU installed.\n",
      ">>> The Ollama API is now available at 127.0.0.1:11434.\n",
      ">>> Install complete. Run \"ollama\" from the command line.\n"
     ]
    }
   ],
   "source": [
    "!curl -fsSL https://ollama.com/install.sh | sh"
   ]
  },
  {
   "cell_type": "code",
   "execution_count": 16,
   "id": "3e0fcfe4-d511-483c-b5fa-46976a530a42",
   "metadata": {
    "scrolled": true
   },
   "outputs": [],
   "source": [
    "save_results(df,\"results_llma_3_1_v1_2024_better_prompt\",question_answer_chain_bis)"
   ]
  },
  {
   "cell_type": "code",
   "execution_count": null,
   "id": "5fc80b8f-021b-40fd-8032-33778496c7a7",
   "metadata": {},
   "outputs": [],
   "source": []
  },
  {
   "cell_type": "code",
   "execution_count": 17,
   "id": "42099c27-5ba6-4c28-8478-e68ba285bbec",
   "metadata": {},
   "outputs": [],
   "source": [
    "json_folder = \"results_llma_3_1_v1_2024_better_prompt\"\n",
    "rows = []\n",
    "\n",
    "# regex\n",
    "contingent_pattern = re.compile(r'\"contingent_annuel\"\\s*:\\s*(\\d+|null)')\n",
    "\n",
    "for filepath in glob(f\"{json_folder}/*.json\"):\n",
    "    with open(filepath, \"r\", encoding=\"utf-8\") as f:\n",
    "        data = json.load(f)\n",
    "        num_dossier = data.get(\"num_dossier\")\n",
    "\n",
    "        # Récupération de la réponse brute\n",
    "        response_text = data[\"responses\"].get(\n",
    "            \"À combien est fixé le contingent d’heures supplémentaires ? \"\n",
    "        )\n",
    "\n",
    "        contingent = None  # valeur par défaut\n",
    "\n",
    "        if response_text:\n",
    "            response_text = response_text.strip(\"` \\n\")\n",
    "            match = contingent_pattern.search(response_text)\n",
    "            if match:\n",
    "                value = match.group(1)\n",
    "                contingent = int(value) if value.isdigit() else None\n",
    "\n",
    "        rows.append({\n",
    "            \"num_dossier\": num_dossier,\n",
    "            \"contingent_annuel\": contingent\n",
    "        })\n",
    "\n",
    "# Création et export CSV\n",
    "df = pd.DataFrame(rows)\n",
    "df.to_csv(\"contingents_annuels_betterprompt.csv\", index=False)\n"
   ]
  },
  {
   "cell_type": "code",
   "execution_count": null,
   "id": "0bc434c9-306d-43e7-8bad-8c756a414b1f",
   "metadata": {},
   "outputs": [],
   "source": []
  },
  {
   "cell_type": "code",
   "execution_count": 18,
   "id": "87c80b7f-ff91-4d61-bb2d-f18c6cc958e9",
   "metadata": {},
   "outputs": [],
   "source": [
    "results_llama3_1 = pd.read_csv(\"contingents_annuels_betterprompt.csv\")\n",
    "true_results= pd.read_csv(\"echantillon_eval_hs_2024_contingent_annote.csv\")\n",
    "results_llama3_1= results_llama3_1.rename(columns={\"contingent_annuel\":\"contingent\"})"
   ]
  },
  {
   "cell_type": "code",
   "execution_count": 19,
   "id": "4a685e8a-be13-481b-b5f5-8fe81e0e7566",
   "metadata": {},
   "outputs": [],
   "source": [
    "true_results = true_results.rename(columns={\"numdossier_new\":\"num_dossier\"})"
   ]
  },
  {
   "cell_type": "code",
   "execution_count": 20,
   "id": "1099a3b8-3651-4781-a4d5-8ee0e1dc8dff",
   "metadata": {},
   "outputs": [
    {
     "data": {
      "text/html": [
       "<div>\n",
       "<style scoped>\n",
       "    .dataframe tbody tr th:only-of-type {\n",
       "        vertical-align: middle;\n",
       "    }\n",
       "\n",
       "    .dataframe tbody tr th {\n",
       "        vertical-align: top;\n",
       "    }\n",
       "\n",
       "    .dataframe thead th {\n",
       "        text-align: right;\n",
       "    }\n",
       "</style>\n",
       "<table border=\"1\" class=\"dataframe\">\n",
       "  <thead>\n",
       "    <tr style=\"text-align: right;\">\n",
       "      <th></th>\n",
       "      <th>num_dossier</th>\n",
       "      <th>contingent</th>\n",
       "    </tr>\n",
       "  </thead>\n",
       "  <tbody>\n",
       "    <tr>\n",
       "      <th>0</th>\n",
       "      <td>T00724060165</td>\n",
       "      <td>NaN</td>\n",
       "    </tr>\n",
       "    <tr>\n",
       "      <th>1</th>\n",
       "      <td>T03324062903</td>\n",
       "      <td>400.0</td>\n",
       "    </tr>\n",
       "    <tr>\n",
       "      <th>2</th>\n",
       "      <td>T07424060533</td>\n",
       "      <td>NaN</td>\n",
       "    </tr>\n",
       "    <tr>\n",
       "      <th>3</th>\n",
       "      <td>T03224060321</td>\n",
       "      <td>NaN</td>\n",
       "    </tr>\n",
       "    <tr>\n",
       "      <th>4</th>\n",
       "      <td>T06724061948</td>\n",
       "      <td>360.0</td>\n",
       "    </tr>\n",
       "    <tr>\n",
       "      <th>...</th>\n",
       "      <td>...</td>\n",
       "      <td>...</td>\n",
       "    </tr>\n",
       "    <tr>\n",
       "      <th>95</th>\n",
       "      <td>T09224067019</td>\n",
       "      <td>NaN</td>\n",
       "    </tr>\n",
       "    <tr>\n",
       "      <th>96</th>\n",
       "      <td>T09224068199</td>\n",
       "      <td>NaN</td>\n",
       "    </tr>\n",
       "    <tr>\n",
       "      <th>97</th>\n",
       "      <td>T04524060557</td>\n",
       "      <td>220.0</td>\n",
       "    </tr>\n",
       "    <tr>\n",
       "      <th>98</th>\n",
       "      <td>T59L24063310</td>\n",
       "      <td>NaN</td>\n",
       "    </tr>\n",
       "    <tr>\n",
       "      <th>99</th>\n",
       "      <td>T09224067998</td>\n",
       "      <td>330.0</td>\n",
       "    </tr>\n",
       "  </tbody>\n",
       "</table>\n",
       "<p>100 rows × 2 columns</p>\n",
       "</div>"
      ],
      "text/plain": [
       "     num_dossier  contingent\n",
       "0   T00724060165         NaN\n",
       "1   T03324062903       400.0\n",
       "2   T07424060533         NaN\n",
       "3   T03224060321         NaN\n",
       "4   T06724061948       360.0\n",
       "..           ...         ...\n",
       "95  T09224067019         NaN\n",
       "96  T09224068199         NaN\n",
       "97  T04524060557       220.0\n",
       "98  T59L24063310         NaN\n",
       "99  T09224067998       330.0\n",
       "\n",
       "[100 rows x 2 columns]"
      ]
     },
     "execution_count": 20,
     "metadata": {},
     "output_type": "execute_result"
    }
   ],
   "source": [
    "true_results"
   ]
  },
  {
   "cell_type": "code",
   "execution_count": 21,
   "id": "9bfacc72-a742-4e61-9bc1-22d08b8df525",
   "metadata": {},
   "outputs": [],
   "source": [
    "comparaison_df = pd.merge(\n",
    "    results_llama3_1,\n",
    "    true_results,\n",
    "    on=\"num_dossier\",\n",
    "    how=\"inner\",\n",
    "    suffixes=('_llm', '_annot')  \n",
    ")"
   ]
  },
  {
   "cell_type": "code",
   "execution_count": 22,
   "id": "c5bde52a-a77c-459b-8379-8ded6a15bad3",
   "metadata": {},
   "outputs": [
    {
     "data": {
      "text/html": [
       "<div>\n",
       "<style scoped>\n",
       "    .dataframe tbody tr th:only-of-type {\n",
       "        vertical-align: middle;\n",
       "    }\n",
       "\n",
       "    .dataframe tbody tr th {\n",
       "        vertical-align: top;\n",
       "    }\n",
       "\n",
       "    .dataframe thead th {\n",
       "        text-align: right;\n",
       "    }\n",
       "</style>\n",
       "<table border=\"1\" class=\"dataframe\">\n",
       "  <thead>\n",
       "    <tr style=\"text-align: right;\">\n",
       "      <th></th>\n",
       "      <th>num_dossier</th>\n",
       "      <th>contingent_llm</th>\n",
       "      <th>contingent_annot</th>\n",
       "    </tr>\n",
       "  </thead>\n",
       "  <tbody>\n",
       "    <tr>\n",
       "      <th>0</th>\n",
       "      <td>T04524061314</td>\n",
       "      <td>NaN</td>\n",
       "      <td>NaN</td>\n",
       "    </tr>\n",
       "    <tr>\n",
       "      <th>1</th>\n",
       "      <td>T06924064719</td>\n",
       "      <td>220.0</td>\n",
       "      <td>220.0</td>\n",
       "    </tr>\n",
       "    <tr>\n",
       "      <th>2</th>\n",
       "      <td>T09224067998</td>\n",
       "      <td>330.0</td>\n",
       "      <td>330.0</td>\n",
       "    </tr>\n",
       "    <tr>\n",
       "      <th>3</th>\n",
       "      <td>T07524069698</td>\n",
       "      <td>220.0</td>\n",
       "      <td>220.0</td>\n",
       "    </tr>\n",
       "    <tr>\n",
       "      <th>4</th>\n",
       "      <td>T06624060247</td>\n",
       "      <td>320.0</td>\n",
       "      <td>320.0</td>\n",
       "    </tr>\n",
       "    <tr>\n",
       "      <th>...</th>\n",
       "      <td>...</td>\n",
       "      <td>...</td>\n",
       "      <td>...</td>\n",
       "    </tr>\n",
       "    <tr>\n",
       "      <th>95</th>\n",
       "      <td>T04524061142</td>\n",
       "      <td>450.0</td>\n",
       "      <td>450.0</td>\n",
       "    </tr>\n",
       "    <tr>\n",
       "      <th>96</th>\n",
       "      <td>T05724061388</td>\n",
       "      <td>300.0</td>\n",
       "      <td>300.0</td>\n",
       "    </tr>\n",
       "    <tr>\n",
       "      <th>97</th>\n",
       "      <td>T05624061314</td>\n",
       "      <td>265.0</td>\n",
       "      <td>265.0</td>\n",
       "    </tr>\n",
       "    <tr>\n",
       "      <th>98</th>\n",
       "      <td>T04524060557</td>\n",
       "      <td>220.0</td>\n",
       "      <td>220.0</td>\n",
       "    </tr>\n",
       "    <tr>\n",
       "      <th>99</th>\n",
       "      <td>T07424060533</td>\n",
       "      <td>NaN</td>\n",
       "      <td>NaN</td>\n",
       "    </tr>\n",
       "  </tbody>\n",
       "</table>\n",
       "<p>100 rows × 3 columns</p>\n",
       "</div>"
      ],
      "text/plain": [
       "     num_dossier  contingent_llm  contingent_annot\n",
       "0   T04524061314             NaN               NaN\n",
       "1   T06924064719           220.0             220.0\n",
       "2   T09224067998           330.0             330.0\n",
       "3   T07524069698           220.0             220.0\n",
       "4   T06624060247           320.0             320.0\n",
       "..           ...             ...               ...\n",
       "95  T04524061142           450.0             450.0\n",
       "96  T05724061388           300.0             300.0\n",
       "97  T05624061314           265.0             265.0\n",
       "98  T04524060557           220.0             220.0\n",
       "99  T07424060533             NaN               NaN\n",
       "\n",
       "[100 rows x 3 columns]"
      ]
     },
     "execution_count": 22,
     "metadata": {},
     "output_type": "execute_result"
    }
   ],
   "source": [
    "comparaison_df"
   ]
  },
  {
   "cell_type": "code",
   "execution_count": 23,
   "id": "a8ebc033-ada2-4bbb-bd9d-e18619b1a87c",
   "metadata": {},
   "outputs": [],
   "source": [
    "comparaison_df[\"contingent_llm\"] = comparaison_df[\"contingent_llm\"].fillna(\"\")\n",
    "comparaison_df[\"contingent_annot\"] = comparaison_df[\"contingent_annot\"].fillna(\"\")\n"
   ]
  },
  {
   "cell_type": "code",
   "execution_count": 26,
   "id": "f2c89503-685c-4111-be99-c843d4d083b1",
   "metadata": {},
   "outputs": [
    {
     "data": {
      "text/html": [
       "<div>\n",
       "<style scoped>\n",
       "    .dataframe tbody tr th:only-of-type {\n",
       "        vertical-align: middle;\n",
       "    }\n",
       "\n",
       "    .dataframe tbody tr th {\n",
       "        vertical-align: top;\n",
       "    }\n",
       "\n",
       "    .dataframe thead th {\n",
       "        text-align: right;\n",
       "    }\n",
       "</style>\n",
       "<table border=\"1\" class=\"dataframe\">\n",
       "  <thead>\n",
       "    <tr style=\"text-align: right;\">\n",
       "      <th></th>\n",
       "      <th>num_dossier</th>\n",
       "      <th>contingent_llm</th>\n",
       "      <th>contingent_annot</th>\n",
       "    </tr>\n",
       "  </thead>\n",
       "  <tbody>\n",
       "    <tr>\n",
       "      <th>5</th>\n",
       "      <td>T09424060886</td>\n",
       "      <td></td>\n",
       "      <td>250.0</td>\n",
       "    </tr>\n",
       "    <tr>\n",
       "      <th>13</th>\n",
       "      <td>T03324061515</td>\n",
       "      <td>400.0</td>\n",
       "      <td>500.0</td>\n",
       "    </tr>\n",
       "    <tr>\n",
       "      <th>36</th>\n",
       "      <td>T04524061125</td>\n",
       "      <td>220.0</td>\n",
       "      <td></td>\n",
       "    </tr>\n",
       "    <tr>\n",
       "      <th>42</th>\n",
       "      <td>T06824060827</td>\n",
       "      <td></td>\n",
       "      <td>270.0</td>\n",
       "    </tr>\n",
       "    <tr>\n",
       "      <th>49</th>\n",
       "      <td>T07524064067</td>\n",
       "      <td>1607.0</td>\n",
       "      <td></td>\n",
       "    </tr>\n",
       "    <tr>\n",
       "      <th>83</th>\n",
       "      <td>T07524067789</td>\n",
       "      <td></td>\n",
       "      <td>100.0</td>\n",
       "    </tr>\n",
       "  </tbody>\n",
       "</table>\n",
       "</div>"
      ],
      "text/plain": [
       "     num_dossier contingent_llm contingent_annot\n",
       "5   T09424060886                           250.0\n",
       "13  T03324061515          400.0            500.0\n",
       "36  T04524061125          220.0                 \n",
       "42  T06824060827                           270.0\n",
       "49  T07524064067         1607.0                 \n",
       "83  T07524067789                           100.0"
      ]
     },
     "execution_count": 26,
     "metadata": {},
     "output_type": "execute_result"
    }
   ],
   "source": [
    "comparaison_df[comparaison_df[\"contingent_llm\"] != comparaison_df[\"contingent_annot\"]]"
   ]
  },
  {
   "cell_type": "code",
   "execution_count": 27,
   "id": "9a82e895-63ad-4896-acc0-9a6b623cfd31",
   "metadata": {},
   "outputs": [
    {
     "data": {
      "text/html": [
       "<div>\n",
       "<style scoped>\n",
       "    .dataframe tbody tr th:only-of-type {\n",
       "        vertical-align: middle;\n",
       "    }\n",
       "\n",
       "    .dataframe tbody tr th {\n",
       "        vertical-align: top;\n",
       "    }\n",
       "\n",
       "    .dataframe thead th {\n",
       "        text-align: right;\n",
       "    }\n",
       "</style>\n",
       "<table border=\"1\" class=\"dataframe\">\n",
       "  <thead>\n",
       "    <tr style=\"text-align: right;\">\n",
       "      <th></th>\n",
       "      <th>num_dossier</th>\n",
       "      <th>contingent_llm</th>\n",
       "      <th>contingent_annot</th>\n",
       "    </tr>\n",
       "  </thead>\n",
       "  <tbody>\n",
       "    <tr>\n",
       "      <th>0</th>\n",
       "      <td>T04524061314</td>\n",
       "      <td></td>\n",
       "      <td></td>\n",
       "    </tr>\n",
       "    <tr>\n",
       "      <th>1</th>\n",
       "      <td>T06924064719</td>\n",
       "      <td>220.0</td>\n",
       "      <td>220.0</td>\n",
       "    </tr>\n",
       "    <tr>\n",
       "      <th>2</th>\n",
       "      <td>T09224067998</td>\n",
       "      <td>330.0</td>\n",
       "      <td>330.0</td>\n",
       "    </tr>\n",
       "    <tr>\n",
       "      <th>3</th>\n",
       "      <td>T07524069698</td>\n",
       "      <td>220.0</td>\n",
       "      <td>220.0</td>\n",
       "    </tr>\n",
       "    <tr>\n",
       "      <th>4</th>\n",
       "      <td>T06624060247</td>\n",
       "      <td>320.0</td>\n",
       "      <td>320.0</td>\n",
       "    </tr>\n",
       "    <tr>\n",
       "      <th>...</th>\n",
       "      <td>...</td>\n",
       "      <td>...</td>\n",
       "      <td>...</td>\n",
       "    </tr>\n",
       "    <tr>\n",
       "      <th>95</th>\n",
       "      <td>T04524061142</td>\n",
       "      <td>450.0</td>\n",
       "      <td>450.0</td>\n",
       "    </tr>\n",
       "    <tr>\n",
       "      <th>96</th>\n",
       "      <td>T05724061388</td>\n",
       "      <td>300.0</td>\n",
       "      <td>300.0</td>\n",
       "    </tr>\n",
       "    <tr>\n",
       "      <th>97</th>\n",
       "      <td>T05624061314</td>\n",
       "      <td>265.0</td>\n",
       "      <td>265.0</td>\n",
       "    </tr>\n",
       "    <tr>\n",
       "      <th>98</th>\n",
       "      <td>T04524060557</td>\n",
       "      <td>220.0</td>\n",
       "      <td>220.0</td>\n",
       "    </tr>\n",
       "    <tr>\n",
       "      <th>99</th>\n",
       "      <td>T07424060533</td>\n",
       "      <td></td>\n",
       "      <td></td>\n",
       "    </tr>\n",
       "  </tbody>\n",
       "</table>\n",
       "<p>94 rows × 3 columns</p>\n",
       "</div>"
      ],
      "text/plain": [
       "     num_dossier contingent_llm contingent_annot\n",
       "0   T04524061314                                \n",
       "1   T06924064719          220.0            220.0\n",
       "2   T09224067998          330.0            330.0\n",
       "3   T07524069698          220.0            220.0\n",
       "4   T06624060247          320.0            320.0\n",
       "..           ...            ...              ...\n",
       "95  T04524061142          450.0            450.0\n",
       "96  T05724061388          300.0            300.0\n",
       "97  T05624061314          265.0            265.0\n",
       "98  T04524060557          220.0            220.0\n",
       "99  T07424060533                                \n",
       "\n",
       "[94 rows x 3 columns]"
      ]
     },
     "execution_count": 27,
     "metadata": {},
     "output_type": "execute_result"
    }
   ],
   "source": [
    "comparaison_df[comparaison_df[\"contingent_llm\"] == comparaison_df[\"contingent_annot\"]]"
   ]
  },
  {
   "cell_type": "code",
   "execution_count": null,
   "id": "e91293f5-49e8-4fc0-b129-fda82c675bab",
   "metadata": {},
   "outputs": [],
   "source": []
  },
  {
   "cell_type": "code",
   "execution_count": 12,
   "id": "23ed567e-8cc9-4f98-bc72-a4faed8e83ec",
   "metadata": {},
   "outputs": [
    {
     "data": {
      "text/html": [
       "<div>\n",
       "<style scoped>\n",
       "    .dataframe tbody tr th:only-of-type {\n",
       "        vertical-align: middle;\n",
       "    }\n",
       "\n",
       "    .dataframe tbody tr th {\n",
       "        vertical-align: top;\n",
       "    }\n",
       "\n",
       "    .dataframe thead th {\n",
       "        text-align: right;\n",
       "    }\n",
       "</style>\n",
       "<table border=\"1\" class=\"dataframe\">\n",
       "  <thead>\n",
       "    <tr style=\"text-align: right;\">\n",
       "      <th></th>\n",
       "      <th>accorddocx</th>\n",
       "      <th>txt_trim_list</th>\n",
       "      <th>extracted_summary</th>\n",
       "    </tr>\n",
       "    <tr>\n",
       "      <th>numdossier</th>\n",
       "      <th></th>\n",
       "      <th></th>\n",
       "      <th></th>\n",
       "    </tr>\n",
       "  </thead>\n",
       "  <tbody>\n",
       "    <tr>\n",
       "      <th>T00724060165</th>\n",
       "      <td>\\n\\nACCORD COLLECTIF D’ENTREPRISE\\n \\nEntre \\n...</td>\n",
       "      <td>[, , ACCORD COLLECTIF D’ENTREPRISE,  , Entre ,...</td>\n",
       "      <td>[ACCORD COLLECTIF D’ENTREPRISE, PREAMBULE,   ...</td>\n",
       "    </tr>\n",
       "    <tr>\n",
       "      <th>T03324062903</th>\n",
       "      <td>\\t\\t\\n\\t\\nACCORD D’ENTREPRISE RELATIF A L’ORGA...</td>\n",
       "      <td>[\\t\\t, \\t, ACCORD D’ENTREPRISE RELATIF A L’ORG...</td>\n",
       "      <td>[ACCORD D’ENTREPRISE RELATIF A L’ORGANISATION ...</td>\n",
       "    </tr>\n",
       "    <tr>\n",
       "      <th>T07424060533</th>\n",
       "      <td>AVENANT N°2 DE L’ACCORD COLLECTIF D’ENTREPRISE...</td>\n",
       "      <td>[AVENANT N°2 DE L’ACCORD COLLECTIF D’ENTREPRIS...</td>\n",
       "      <td>[AVENANT N°2 DE L’ACCORD COLLECTIF D’ENTREPRIS...</td>\n",
       "    </tr>\n",
       "    <tr>\n",
       "      <th>T03224060321</th>\n",
       "      <td>\\n\\nACCORD D’ENTREPRISE SUR LES HEURES SUPPLEM...</td>\n",
       "      <td>[, , ACCORD D’ENTREPRISE SUR LES HEURES SUPPLE...</td>\n",
       "      <td>[ACCORD D’ENTREPRISE SUR LES HEURES SUPPLEMENT...</td>\n",
       "    </tr>\n",
       "    <tr>\n",
       "      <th>T06724061948</th>\n",
       "      <td>\\naccord d’entreprise \\nrelatif au contingent ...</td>\n",
       "      <td>[, accord d’entreprise , relatif au contingent...</td>\n",
       "      <td>[accord d’entreprise , relatif au contingent d...</td>\n",
       "    </tr>\n",
       "    <tr>\n",
       "      <th>...</th>\n",
       "      <td>...</td>\n",
       "      <td>...</td>\n",
       "      <td>...</td>\n",
       "    </tr>\n",
       "    <tr>\n",
       "      <th>T07424060477</th>\n",
       "      <td>ACCORD COLLECTIF INSTITUANT UN AMENAGEMENT DU ...</td>\n",
       "      <td>[ACCORD COLLECTIF INSTITUANT UN AMENAGEMENT DU...</td>\n",
       "      <td>[ACCORD COLLECTIF INSTITUANT UN AMENAGEMENT DU...</td>\n",
       "    </tr>\n",
       "    <tr>\n",
       "      <th>T06224062102</th>\n",
       "      <td>\\t\\nACCORD D’ENTREPRISE SUR L’AMENAGEMENT DU T...</td>\n",
       "      <td>[\\t, ACCORD D’ENTREPRISE SUR L’AMENAGEMENT DU ...</td>\n",
       "      <td>[ACCORD D’ENTREPRISE SUR L’AMENAGEMENT DU TEMP...</td>\n",
       "    </tr>\n",
       "    <tr>\n",
       "      <th>T05124061033</th>\n",
       "      <td>\\n\\n\\nACCORD SUR LES MODALITES D’ORGANISATION ...</td>\n",
       "      <td>[, , , ACCORD SUR LES MODALITES D’ORGANISATION...</td>\n",
       "      <td>[ACCORD SUR LES MODALITES D’ORGANISATION DU TE...</td>\n",
       "    </tr>\n",
       "    <tr>\n",
       "      <th>T06924065866</th>\n",
       "      <td>\\n\\nAccord d’entreprise relatif à la durée, l...</td>\n",
       "      <td>[ , , Accord d’entreprise relatif à la durée, ...</td>\n",
       "      <td>[Accord d’entreprise relatif à la durée, l’amé...</td>\n",
       "    </tr>\n",
       "    <tr>\n",
       "      <th>T08824060676</th>\n",
       "      <td>\\nAccord sur les conditions et les modalités d...</td>\n",
       "      <td>[, Accord sur les conditions et les modalités ...</td>\n",
       "      <td>[Accord sur les conditions et les modalités de...</td>\n",
       "    </tr>\n",
       "  </tbody>\n",
       "</table>\n",
       "<p>1000 rows × 3 columns</p>\n",
       "</div>"
      ],
      "text/plain": [
       "                                                     accorddocx  \\\n",
       "numdossier                                                        \n",
       "T00724060165  \\n\\nACCORD COLLECTIF D’ENTREPRISE\\n \\nEntre \\n...   \n",
       "T03324062903  \\t\\t\\n\\t\\nACCORD D’ENTREPRISE RELATIF A L’ORGA...   \n",
       "T07424060533  AVENANT N°2 DE L’ACCORD COLLECTIF D’ENTREPRISE...   \n",
       "T03224060321  \\n\\nACCORD D’ENTREPRISE SUR LES HEURES SUPPLEM...   \n",
       "T06724061948  \\naccord d’entreprise \\nrelatif au contingent ...   \n",
       "...                                                         ...   \n",
       "T07424060477  ACCORD COLLECTIF INSTITUANT UN AMENAGEMENT DU ...   \n",
       "T06224062102  \\t\\nACCORD D’ENTREPRISE SUR L’AMENAGEMENT DU T...   \n",
       "T05124061033  \\n\\n\\nACCORD SUR LES MODALITES D’ORGANISATION ...   \n",
       "T06924065866   \\n\\nAccord d’entreprise relatif à la durée, l...   \n",
       "T08824060676  \\nAccord sur les conditions et les modalités d...   \n",
       "\n",
       "                                                  txt_trim_list  \\\n",
       "numdossier                                                        \n",
       "T00724060165  [, , ACCORD COLLECTIF D’ENTREPRISE,  , Entre ,...   \n",
       "T03324062903  [\\t\\t, \\t, ACCORD D’ENTREPRISE RELATIF A L’ORG...   \n",
       "T07424060533  [AVENANT N°2 DE L’ACCORD COLLECTIF D’ENTREPRIS...   \n",
       "T03224060321  [, , ACCORD D’ENTREPRISE SUR LES HEURES SUPPLE...   \n",
       "T06724061948  [, accord d’entreprise , relatif au contingent...   \n",
       "...                                                         ...   \n",
       "T07424060477  [ACCORD COLLECTIF INSTITUANT UN AMENAGEMENT DU...   \n",
       "T06224062102  [\\t, ACCORD D’ENTREPRISE SUR L’AMENAGEMENT DU ...   \n",
       "T05124061033  [, , , ACCORD SUR LES MODALITES D’ORGANISATION...   \n",
       "T06924065866  [ , , Accord d’entreprise relatif à la durée, ...   \n",
       "T08824060676  [, Accord sur les conditions et les modalités ...   \n",
       "\n",
       "                                              extracted_summary  \n",
       "numdossier                                                       \n",
       "T00724060165  [ACCORD COLLECTIF D’ENTREPRISE, PREAMBULE,   ...  \n",
       "T03324062903  [ACCORD D’ENTREPRISE RELATIF A L’ORGANISATION ...  \n",
       "T07424060533  [AVENANT N°2 DE L’ACCORD COLLECTIF D’ENTREPRIS...  \n",
       "T03224060321  [ACCORD D’ENTREPRISE SUR LES HEURES SUPPLEMENT...  \n",
       "T06724061948  [accord d’entreprise , relatif au contingent d...  \n",
       "...                                                         ...  \n",
       "T07424060477  [ACCORD COLLECTIF INSTITUANT UN AMENAGEMENT DU...  \n",
       "T06224062102  [ACCORD D’ENTREPRISE SUR L’AMENAGEMENT DU TEMP...  \n",
       "T05124061033  [ACCORD SUR LES MODALITES D’ORGANISATION DU TE...  \n",
       "T06924065866  [Accord d’entreprise relatif à la durée, l’amé...  \n",
       "T08824060676  [Accord sur les conditions et les modalités de...  \n",
       "\n",
       "[1000 rows x 3 columns]"
      ]
     },
     "execution_count": 12,
     "metadata": {},
     "output_type": "execute_result"
    }
   ],
   "source": [
    "df"
   ]
  },
  {
   "cell_type": "code",
   "execution_count": 9,
   "id": "1f3f9ddd-5798-488d-ab89-28d4a657a684",
   "metadata": {},
   "outputs": [],
   "source": [
    "def normalize(text):\n",
    "    return unidecode.unidecode(text.lower().strip())\n",
    "\n",
    "def split_text_by_sentences(text, flagged_sentences):\n",
    "    \"\"\"\n",
    "    Découpe le texte en segments basés sur les titres du sommaire, après normalisation.\n",
    "    \"\"\"\n",
    "    split_texts = []\n",
    "    positions = []\n",
    "\n",
    "    normalized_text = normalize(text)\n",
    "\n",
    "    # On garde un mapping (titre original, position) pour préserver les titres initiaux\n",
    "    for sentence in flagged_sentences:\n",
    "        norm_sentence = normalize(sentence)\n",
    "        pos = normalized_text.find(norm_sentence)\n",
    "        if pos != -1:\n",
    "            # On retrouve la position réelle dans le texte original\n",
    "            real_pos = text.lower().find(sentence.lower())\n",
    "            if real_pos != -1:\n",
    "                positions.append(real_pos)\n",
    "\n",
    "    # Si aucune position trouvée, retourner le texte complet\n",
    "    if not positions:\n",
    "        return [text]\n",
    "\n",
    "    positions = sorted(set(positions))\n",
    "    positions.insert(0, 0)\n",
    "    positions.append(len(text))\n",
    "\n",
    "    for i in range(len(positions) - 1):\n",
    "        start = positions[i]\n",
    "        end = positions[i + 1]\n",
    "        split_texts.append(text[start:end].strip())\n",
    "\n",
    "    return split_texts"
   ]
  },
  {
   "cell_type": "code",
   "execution_count": 10,
   "id": "77e3dc71-5048-4358-b766-b36ec5041405",
   "metadata": {},
   "outputs": [],
   "source": [
    "def split_text_with_titles(text, summary_titles):\n",
    "    chunks = split_text_by_sentences(text, summary_titles)\n",
    "    result = {}\n",
    "    for title in summary_titles:\n",
    "        for chunk in chunks:\n",
    "            if normalize(title) in normalize(chunk[:len(title)+30]):\n",
    "                result[title] = chunk.strip()\n",
    "                break\n",
    "    return result\n"
   ]
  },
  {
   "cell_type": "code",
   "execution_count": 18,
   "id": "5797269d-577e-45d0-a9a1-949266dcee16",
   "metadata": {},
   "outputs": [],
   "source": [
    "df[\"section_dict\"] = df.apply(\n",
    "    lambda row: split_text_with_titles(row[\"accorddocx\"], row[\"extracted_summary\"]),\n",
    "    axis=1\n",
    ")"
   ]
  },
  {
   "cell_type": "code",
   "execution_count": 20,
   "id": "a2a7786f-39e7-442f-b662-9fa1faa1e0e7",
   "metadata": {
    "scrolled": true
   },
   "outputs": [
    {
     "data": {
      "text/plain": [
       "{'ACCORD COLLECTIF D’ENTREPRISE': 'ACCORD COLLECTIF D’ENTREPRISE\\n\\xa0\\nEntre\\xa0\\n\\xa0\\nL’Association Mission Locale Nord Ardèche, dont le siège est situé 6 allée Nicolas Copernic- Tour H représenté par M.                   en sa qualité de Président.\\n\\xa0\\nD’une part,\\xa0\\xa0\\n\\xa0\\nEt\\n\\xa0\\nLes délégués titulaires du CSE, représentant la majorité des suffrages exprimés lors des dernières élections professionnelles en date du 10/07/2023.\\n\\xa0\\nD’autre part,',\n",
       " 'PREAMBULE': 'PREAMBULE\\n\\xa0\\nLes parties ont convenu de négocier un nouvel accord collectif d’entreprise suite à la dénonciation en date 06/12/2022 de l’accord collectif d’entreprise du 23/12/1999.\\n\\xa0\\nLe présent accord prend en compte l’organisation actuelle en répondant aux besoins d’adaptation de la Mission Locale et à ses nécessités de fonctionnement.\\n\\xa0\\nLe présent accord comporte notamment des dispositions concernant\\xa0:',\n",
       " '\\uf0b7\\xa0\\xa0\\xa0\\xa0\\xa0\\xa0\\xa0\\xa0\\xa0L’aménagement du temps de travail\\xa0;': '\\uf0b7\\xa0\\xa0\\xa0\\xa0\\xa0\\xa0\\xa0\\xa0\\xa0L’aménagement du temps de travail\\xa0;\\n\\uf0b7\\xa0\\xa0\\xa0\\xa0\\xa0\\xa0\\xa0\\xa0\\xa0Le recours au travail en soirée ou le samedi, au regard des nécessités de service et d’accompagnement au public\\n\\xa0\\nLe présent accord se substitue, à partir de son entrée en vigueur, aux engagements unilatéraux, accords collectifs ou usages antérieurs portant sur les mêmes objets et/ou les mêmes thèmes que le présent accord, en particulier à l’accord collectif d’entreprise du 23/12/1999 qui a été dénoncé et qui cessera de s’appliquer.\\n\\xa0\\nLes dispositions prévues par le présent accord, qui s’inscrivent dans le champ de la négociation collective, s’appliquent au lieu et place de celles portant sur le même objet de la Convention Collective Nationale des Missions Locales.',\n",
       " 'TITRE I – CHAMP D’APPLICATION': 'TITRE I – CHAMP D’APPLICATION\\n\\xa0\\nLe présent accord s’applique à l’ensemble du personnel de la Mission Locale Nord Ardèche, en contrat de travail à durée indéterminée, en contrat de travail à durée déterminée, à temps plein et à temps partiel.',\n",
       " 'TITRE II – DUREE DU TRAVAIL, DUREES MAXIMALES, REPOS HEBDOMADAIRE': 'TITRE II – DUREE DU TRAVAIL, DUREES MAXIMALES, REPOS HEBDOMADAIRE',\n",
       " '1. Durée conventionnelle de travail': '1. Durée conventionnelle de travail\\n\\xa0\\nLa durée conventionnelle de travail est fixée à 35 heures hebdomadaires en moyenne.',\n",
       " '2. Durées maximales de travail': '2. Durées maximales de travail\\n\\xa0\\xa0\\nLa durée maximale quotidienne de travail est de 10 heures.\\n\\xa0\\nLa durée maximale hebdomadaire de travail est de 48 heures.',\n",
       " '3. Repos hebdomadaire': \"3. Repos hebdomadaire\\n\\xa0\\nLe repos hebdomadaire est de deux jours consécutifs. En cas de travail le samedi, le fractionnement des deux jours de repos hebdomadaire est exceptionnellement admis, le salarié pouvant prendre son deuxième jour de repos un autre jour de la semaine (au lieu du lundi suivant le samedi travaillé), à condition de respecter une durée minimale de repos hebdomadaire sans interruption de 35 heures (24 heures auxquelles s'ajoutent 11 heures de repos quotidien entre deux journées de travail).\",\n",
       " 'TITRE III – AMENAGEMENT DU TEMPS DE TRAVAIL': 'TITRE III – AMENAGEMENT DU TEMPS DE TRAVAIL',\n",
       " '1. Aménagement du temps de travail sur une période annuelle': '1. Aménagement du temps de travail sur une période annuelle\\n\\xa0\\nLa durée du travail est répartie dans le cadre d’une période de référence annuelle, conformément à l’article L.3121-44 du code du travail.\\n\\xa0\\nLa durée conventionnelle de travail est fixée par le présent accord à 35 heures en moyenne sur l’année civile (prenant en compte les droits complets en matière de congés payés, conformément à la convention collective nationale, de 30 jours ouvrés).',\n",
       " '2. Période annuelle de référence': '2. Période annuelle de référence\\n\\xa0\\nLa période de référence retenue est l’année civile.\\nLa première période de référence infra – annuelle du présent accord est fixée du 18/03/2024 au 31/12/2024.',\n",
       " '3. Salariés à temps complet': '3. Salariés à temps complet\\n\\xa0\\nLa durée conventionnelle de travail est de 35 heures en moyenne sur l’année civile, de telle sorte que les heures effectuées au-delà et en deçà de 35 heures hebdomadaires se compensent automatiquement dans le cadre de la période annuelle de référence du 1er\\xa0janvier au 31 décembre (du 18/03/2024 au 31/12/2024 de référence infra – annuelle).',\n",
       " '4. Salariés à temps partiel': '4. Salariés à temps partiel\\n\\xa0\\nLes salariés choisissent cette possibilité en accord avec la direction, dans la mesure où ce choix est compatible avec l’organisation du travail\\xa0en accord avec la direction.\\xa0\\nEn pareil cas, le contrat de travail ou son avenant en fait mention et définit la durée de travail et sa répartition.',\n",
       " '5. Planification de l’aménagement du temps de travail': '5. Planification de l’aménagement du temps de travail\\n\\xa0\\nL’aménagement du temps de travail fait l’objet d’une planification annuelle dans le cadre de la période annuelle de référence du 1er\\xa0janvier au 31 décembre (du 18/03/2024 au 31/12/2024 pour la première période de référence infra – annuelle).\\xa0\\n \\xa0\\nSoit sur\\xa0la base d’un horaire hebdomadaire de travail de 36 heures de travail effectif sur\\xa04,5 jours / semaine\\nSoit sur\\xa0la base d’un horaire hebdomadaire de travail effectif de 36 heures de travail effectif en moyenne sur 2 semaines\\xa0par alternance de semaine de 4 jours / semaine et de semaine de 5 jours / semaine.\\nOuvrant droit à 44 heures acquises RTT a période\\xa0de référence,\\xa0de façon à effectuer 35 heures en moyenne\\xa0sur période de référence.\\xa0Ce nombre d’heures est à prendre\\xa0au plus tard avant le terme\\xa0de la période\\xa0de référence. Pour les salariés à temps partiel\\xa0intégrés dans l’aménagement annuel du temps de travail prévu par le présent accord, le nombre d’heures acquises RTT est indiqué au contrat de travail (ou avenant).\\xa0\\n\\xa0\\nToute absence, rémunérée ou non, hors congés payés et jours fériés ayant pour effet d’abaisser la durée effective du travail entrainera une réduction des droits à RTT.\\n\\xa0\\nCes\\xa0heures acquises RTT\\xa0sont prises\\xa0dans les conditions suivantes\\xa0:\\nElles devront être prises dans un délai de 3 mois\\xa0suivant\\xa0l’acquisition\\xa0en accord avec la Direction.\\nUne fiche de demande et un tableau récapitulatif de ces heures permettront d’assurer le suivi et la prise\\xa0de ces heures.\\xa0Ces heures sont obligatoirement à prendre\\xa0au plus tard avant le terme\\xa0de la période\\xa0de référence.',\n",
       " '6. Horaires de travail - modification de l’horaire': \"6. Horaires de travail - modification de l’horaire\\n\\xa0\\nLes horaires de travail font l’objet d’un affichage.\\xa0\\nLes salariés sont informés des modifications d’horaire au plus tard 7 jours ouvrés avant la prise d’effet de la modification.\\xa0\\nCe délai est ramené à 3 jours ouvrés en cas d’urgence, d’absence imprévisible.\\xa0\\n\\n\\n\\n\\n\\nEn cas d’urgence (remplacement d'un personnel pour absence non prévue, conditions météorologiques et climatiques), le délai de prévenance est ramené à 12 heures.\\xa0\\nIl est tenu compte de la situation particulière éventuelle d’employeurs multiples.\",\n",
       " '7. Lissage de la rémunération – absences – arrivées et départs en cours de période de référence': \"7. Lissage de la rémunération – absences – arrivées et départs en cours de période de référence\\n\\xa0\\nPour les salariés à temps complet, la rémunération mensuelle est lissée sur la base d’une mensualisation de 151,67 heures, de façon à assurer une rémunération régulière, indépendante de l’horaire réel et du nombre\\xa0d’heures RTT\\xa0dans le mois.\\n\\xa0\\nPour les salariés à temps partiel intégrés dans l’aménagement annuel du temps de travail prévu par le présent accord, la rémunération mensuelle est lissée sur la base de la durée annuelle contractuelle de travail, afin d'assurer une rémunération régulière indépendante de l'horaire réel et du nombre d’heures RTT\\xa0dans le mois.\\n\\xa0\\nLes absences de toute nature sont rémunérées ou indemnisées sur la base du salaire mensuel lissé. Les absences non rémunérées ou non indemnisées sont déduites de la rémunération mensuelle lissée.\\n\\nToute absence non rémunérée donne lieu à une retenue de rémunération proportionnelle au nombre d'heures d'absence effective constatée par rapport au nombre d'heures réelles du mois considéré et par rapport à la rémunération mensuelle lissée.\\n\\xa0\\nLorsqu'un salarié, du fait de son arrivée ou départ en cours de période de référence (embauche, rupture ou échéance du contrat de travail), n'a pas travaillé toute la période\\xa0\\xa0de référence, une régularisation de sa rémunération est opérée en fin de période ou à la date de la rupture ou échéance du contrat de travail en fonction des heures qu’il aurait dû effectuer sur la période\\xa0de référence. La régularisation est effectuée sur la base du taux horaire normal.\",\n",
       " '8. Heures supplémentaires': \"8. Heures supplémentaires\\n\\xa0\\nLe recours aux heures supplémentaires doit rester exceptionnel.\\n\\xa0\\nConstituent des heures supplémentaires les heures de travail effectif effectuées pour un salarié à temps plein au-delà de 35 heures en moyenne\\xa0sur la période de référence, à la demande ou avec l’accord préalable de la Direction. La première période de référence infra – annuelle du présent accord est fixée du … au …\\xa0\\nLes heures effectuées au-delà de la durée annuelle du travail, et toute majoration qui en découle, donnent lieu à un repos compensateur de remplacement.\\n\\xa0\\nLe repos compensateur de remplacement est pris, par journée entière ou par demi-journée, à la demande du salarié et en fonction des besoins du service, dans un délai maximum de 3 mois à une date fixée en accord avec la direction. A défaut d’accord, le repos compensateur est fixé par la direction, en respectant un délai minimum de prévenance d’un mois.\\n\\xa0\\n\\n\\n\\n\\nLa journée ou demi-journée au cours de laquelle le repos est pris est déduite du droit à repos à raison du nombre d'heures de travail que le salarié aurait accompli pendant cette journée ou cette demi-journée.\\nA la demande de la direction, il peut être substitué, au repos compensateur de remplacement, une rémunération des heures supplémentaires et de leurs majorations par accord individuel avant la fin de la période de référence.\\xa0\\nLe taux de majoration des heures supplémentaires dans le contingent est fixé, par le présent accord, à 25 %.\\nPour les heures supplémentaires effectuées au-delà du contingent annuel, la contrepartie obligatoire en repos est fixée par la Loi à 100%.\",\n",
       " '9. Heures complémentaires': '9. Heures complémentaires\\n\\xa0\\nLa limite dans laquelle les salariés peuvent réaliser des heures complémentaires est portée au tiers de la durée contractuelle de travail (calculée sur la période de référence pour le salarié à temps partiel intégré dans l’aménagement annuel du temps de travail).\\n\\xa0\\nLes heures complémentaires ne peuvent avoir pour effet de porter la durée du travail accomplie par un salarié à temps partiel au niveau de la durée de travail définie pour un salarié travaillant à temps plein.',\n",
       " '10. Travail en soirée': '10. Travail en soirée\\n\\xa0\\nCompte tenu de l’activité de la Mission Locale Nord Ardèche, rendant ponctuellement nécessaire pour l’exécution ou la continuité d’actions ou dispositifs, des missions en soirée, les parties au présent accord conviennent d’un recours ponctuel, occasionnel ou habituel au travail en soirée dans le respect du droit du travail.\\n\\xa0\\nLes présentes dispositions s’appliquent aux salariés amenés à travailler, à titre ponctuel, occasionnel ou habituel, sur une plage horaire pouvant aller jusqu’à 21 heures pour l’accompagnement d’un public spécifique (Invisibles, Rue).\\n\\xa0\\nSont concernés par le travail en soirée, les salariés exerçant les fonctions de\\xa0: conseillers en insertion sociale et professionnelle.\\n\\xa0\\nLes horaires en soirée seront organisés avec une attention particulière afin de faciliter leur articulation avec les responsabilités familiales et sociales des salariés concernés.\\n\\xa0\\nAvant recrutement ou affectation de salariés à un poste de travail en soirée, l’employeur prendra en compte l’existence d’un moyen de transport collectif ou individuel permettant la liaison retour jusqu’au domicile.\\n\\xa0\\nLe salarié en état de grossesse médicalement constaté ne pourra être affecté à un poste comportant un horaire en soirée pendant la durée de sa grossesse.',\n",
       " '11. Travail le samedi': '11. Travail le samedi\\n\\xa0\\nLes parties au présent accord rappellent préalablement les dispositions de la convention collective\\xa0nationale\\xa0: Le repos hebdomadaire est fixé à 2 jours consécutifs comprenant obligatoirement le dimanche, sauf accord d’entreprise.\\n\\xa0\\nConformément aux dispositions du Code du travail, les parties au présent accord conviennent qu’il pourra être dérogé au principe du repos hebdomadaire le samedi pour les salariés participant à une action, activité et/ou évènement, manifestation spécifiques en lien avec l’accompagnement du public et se déroulant le samedi.\\n\\xa0\\nLes parties au présent accord conviennent d’un recours ponctuel et occasionnel au travail le samedi au sein de la Mission Locale Nord Ardèche dans le respect du droit du travail.\\n\\nSeuls les salariés volontaires pourront travailler le samedi. Une attention particulière sera portée aux salariées en état de grossesse.\\n\\xa0\\nLes salariés travaillant la journée du samedi bénéficieront d’une journée de repos d’une journée entière accordée un jour quelconque de la même semaine, dans le respect du repos hebdomadaire légal d’une durée minimale de 24 heures auquel s’ajoute 11 heures de repos quotidien.',\n",
       " '12. Suivi des horaires et temps de travail': '12. Suivi des horaires et temps de travail\\n\\xa0\\nLa structure utilise un outil logiciel qui comptabilise le temps de travail.\\n\\xa0\\nLes heures supplémentaires sont récupérées par année civile. La demande récupération se fait auprès de la direction. Un tableau de suivi de ces heures est mis en place.',\n",
       " '13. Temps de travail des cadres': '13. Temps de travail des cadres',\n",
       " '13.1. Cadres dirigeants': '13.1. Cadres dirigeants\\n\\xa0\\nSont considérés comme cadres dirigeants les cadres de direction auxquels sont confiés des responsabilités dont l’importance implique une grande indépendance dans l’organisation de leur emploi du temps et qui sont habilités à prendre des décisions de façon autonome.\\n\\xa0\\nCes catégories sont, à ce jour\\xa0: Directeur/Directrice, Responsable de secteur, Responsable administratif.ve et financière, Responsable des ressources humaines\\n\\xa0\\nIls ne sont pas soumis à l’horaire collectif.',\n",
       " '13.2. Cadres administratif et cadres techniques': '13.2. Cadres administratif et cadres techniques\\n\\xa0\\nLes cadres administratifs et les cadres techniques sont soumis à l’horaire collectif comme les personnels non cadres.',\n",
       " 'TITRE IV – CONGES ANNUELS': 'TITRE IV – CONGES ANNUELS\\n\\xa0\\n\\xa0Le droit complet à congé annuel est fixé comme suit : 30 jours ouvrés de congés annuels\\xa0\\nEn cas de demande d’une partie des congés en dehors de la période\\xa0normale\\xa0du 1er\\xa0mai au 31\\xa0octobre,\\xa0dans le respect du minimum légal,\\xa0le salarié doit assortir sa demande de congés d’une renonciation aux jours de congés supplémentaires dans le formulaire dédié.',\n",
       " 'TITRE V – AVANTAGES SOCIAUX': 'TITRE V – AVANTAGES SOCIAUX\\n\\xa0\\nAu jour du présent accord, le personnel bénéficie\\xa0:\\n\\xa0\\n\\uf0b7\\xa0\\xa0\\xa0\\xa0\\xa0\\xa0\\xa0\\xa0\\xa0De tickets restaurant\\n\\uf0b7\\xa0\\xa0\\xa0\\xa0\\xa0\\xa0\\xa0\\xa0\\xa0De chèques vacances\\n\\uf0b7\\xa0\\xa0\\xa0\\xa0\\xa0\\xa0\\xa0\\xa0\\xa0De bons d’achat (chèques cadeaux) à l’occasion de l’événement noël\\n\\uf0b7\\xa0\\xa0\\xa0\\xa0\\xa0\\xa0\\xa0\\xa0\\xa0D’une prime annuelle\\n\\xa0\\nCes avantages sont négociés à l’occasion des négociations collectives obligatoires, dans le respect de l’application du régime légal en vigueur (conditions d’octroi, d’assujettissement, contributions et cotisations sociales et imposition fiscale).',\n",
       " 'TITRE VI - DISPOSITIONS FINALES': \"TITRE VI - DISPOSITIONS FINALES\\n1. Durée - date d’effet – révision è dénonciation\\nLe présent avenant est conclu pour une durée indéterminée. Il s’appliquera à partir du 18/03/2024.\\n\\xa0\\nIl pourra faire l’objet d’une révision ou d’une dénonciation, dans les conditions prévues\\xa0par le\\xa0Code du travail.\\xa0\\nInformation devra en être faite à la Direction, lorsque celle-ci n’est pas à l’origine de l’engagement de la procédure, et à chacune des autres parties habilitées à engager la procédure de révision par courrier recommandé avec accusé de réception.\\xa0\\nLe présent accord pourra être dénoncé par la Direction ou l’une des parties habilitées en application des dispositions du code du travail moyennant un préavis de 3 mois.\\xa0\\nLa partie qui dénonce l'accord doit notifier cette décision par lettre recommandée avec accusé de réception à l'autre partie. Les parties se réuniront pendant la durée du préavis pour discuter les possibilités d'un nouvel accord.\\xa0\\nLe présent accord constitue un tout indivisible qui ne saurait être mis en œuvre de manière fractionnée ou faire l’objet d’une dénonciation partielle.\",\n",
       " '2. Suivi de l’accord': '2. Suivi de l’accord\\n\\xa0\\nL’application du présent accord sera suivie par les représentants du personnel dans le cadre des réunions obligatoires prévues par la réglementation (CSE, négociation annuelle).',\n",
       " '3. Communication et dépôt de l’accord\\xa0': '3. Communication et dépôt de l’accord\\xa0\\n\\xa0\\nLe présent accord donnera lieu à dépôt dans les conditions prévues par le Code du travail, à savoir\\xa0:\\n\\xa0\\nDépôt sur la plateforme de téléprocédure « TéléAccords » du ministère du travail ;\\xa0\\nDépôt d’un exemplaire au greffe du Conseil de Prud’hommes compétent ;\\nDépôt pour publication sur la base de données nationale en ligne visée à l’article L. 2231-5-1 du code du travail.\\xa0\\xa0\\nMention de cet accord figurera sur le tableau d’affichage de la Direction et une copie sera remise aux représentants du personnel.\\n\\nAprès suppression des noms et prénoms des négociateurs et des signataires, la partie la plus diligente transmettra le présent avenant à la commission paritaire permanente de branche et en informera les autres parties signataires.\\n\\xa0\\nA Annonay, le 12 Mars 2024'}"
      ]
     },
     "execution_count": 20,
     "metadata": {},
     "output_type": "execute_result"
    }
   ],
   "source": [
    "df[\"section_dict\"].iloc[0]                                                 "
   ]
  },
  {
   "cell_type": "code",
   "execution_count": 28,
   "id": "6b31a508-6b72-4089-b872-27159da37cad",
   "metadata": {},
   "outputs": [
    {
     "name": "stderr",
     "output_type": "stream",
     "text": [
      "/tmp/ipykernel_1238/2344104888.py:1: FutureWarning: Series.__getitem__ treating keys as positions is deprecated. In a future version, integer keys will always be treated as labels (consistent with DataFrame behavior). To access a value by position, use `ser.iloc[pos]`\n",
      "  df[\"section_dict\"][0].keys()\n"
     ]
    },
    {
     "data": {
      "text/plain": [
       "dict_keys(['ACCORD COLLECTIF D’ENTREPRISE', 'PREAMBULE', '\\uf0b7\\xa0\\xa0\\xa0\\xa0\\xa0\\xa0\\xa0\\xa0\\xa0L’aménagement du temps de travail\\xa0;', 'TITRE I – CHAMP D’APPLICATION', 'TITRE II – DUREE DU TRAVAIL, DUREES MAXIMALES, REPOS HEBDOMADAIRE', '1. Durée conventionnelle de travail', '2. Durées maximales de travail', '3. Repos hebdomadaire', 'TITRE III – AMENAGEMENT DU TEMPS DE TRAVAIL', '1. Aménagement du temps de travail sur une période annuelle', '2. Période annuelle de référence', '3. Salariés à temps complet', '4. Salariés à temps partiel', '5. Planification de l’aménagement du temps de travail', '6. Horaires de travail - modification de l’horaire', '7. Lissage de la rémunération – absences – arrivées et départs en cours de période de référence', '8. Heures supplémentaires', '9. Heures complémentaires', '10. Travail en soirée', '11. Travail le samedi', '12. Suivi des horaires et temps de travail', '13. Temps de travail des cadres', '13.1. Cadres dirigeants', '13.2. Cadres administratif et cadres techniques', 'TITRE IV – CONGES ANNUELS', 'TITRE V – AVANTAGES SOCIAUX', 'TITRE VI - DISPOSITIONS FINALES', '2. Suivi de l’accord', '3. Communication et dépôt de l’accord\\xa0'])"
      ]
     },
     "execution_count": 28,
     "metadata": {},
     "output_type": "execute_result"
    }
   ],
   "source": [
    "df[\"section_dict\"][0].keys()"
   ]
  },
  {
   "cell_type": "code",
   "execution_count": 29,
   "id": "6ea76281-3988-423a-80d5-14a828eed305",
   "metadata": {},
   "outputs": [
    {
     "data": {
      "text/plain": [
       "<generator object DataFrame.iterrows at 0x7f824395e460>"
      ]
     },
     "execution_count": 29,
     "metadata": {},
     "output_type": "execute_result"
    }
   ],
   "source": [
    "df.iterrows()"
   ]
  }
 ],
 "metadata": {
  "kernelspec": {
   "display_name": "Python 3 (ipykernel)",
   "language": "python",
   "name": "python3"
  },
  "language_info": {
   "codemirror_mode": {
    "name": "ipython",
    "version": 3
   },
   "file_extension": ".py",
   "mimetype": "text/x-python",
   "name": "python",
   "nbconvert_exporter": "python",
   "pygments_lexer": "ipython3",
   "version": "3.13.5"
  }
 },
 "nbformat": 4,
 "nbformat_minor": 5
}
