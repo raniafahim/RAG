{
 "cells": [
  {
   "cell_type": "code",
   "execution_count": 1,
   "id": "7e84d024-e426-4059-b471-5be829bba5c7",
   "metadata": {},
   "outputs": [],
   "source": [
    "!uv pip install -q langchain==0.2.16 langchain-community==0.2.16 langchain-huggingface==0.0.3 langchain-text-splitters==0.2.4 chromadb==0.5.3 langchain-chroma==0.1.3 pandas ipywidgets"
   ]
  },
  {
   "cell_type": "code",
   "execution_count": 2,
   "id": "5ae14c1f-bc5d-4940-a280-4dbfc96f0dc2",
   "metadata": {},
   "outputs": [],
   "source": [
    "!uv pip install -q pyarrow unidecode"
   ]
  },
  {
   "cell_type": "code",
   "execution_count": 3,
   "id": "33b20e25-2d77-4f76-8f96-9923185f65e0",
   "metadata": {},
   "outputs": [],
   "source": [
    "import pandas as pd\n",
    "from langchain_huggingface import HuggingFaceEmbeddings\n",
    "#from langchain.vectorstores import Chroma\n",
    "#from langchain_chroma import Chroma\n",
    "from langchain_community.vectorstores import Chroma\n",
    "from langchain_text_splitters import CharacterTextSplitter, RecursiveCharacterTextSplitter\n",
    "from tqdm import tqdm\n",
    "import requests\n",
    "import json\n",
    "import torch\n",
    "from langchain.schema import Document \n",
    "\n",
    "\n",
    "\n",
    "from langchain.chains import StuffDocumentsChain, RetrievalQA, LLMChain, create_retrieval_chain\n",
    "from langchain.chains.combine_documents import create_stuff_documents_chain\n",
    "from langchain.document_loaders import TextLoader\n",
    "from langchain.embeddings import OpenAIEmbeddings, OllamaEmbeddings\n",
    "from langchain.llms import Ollama, BaseLLM\n",
    "from langchain.schema import Document, Generation, LLMResult\n",
    "from langchain.vectorstores import Chroma\n",
    "from langchain_chroma import Chroma\n",
    "from langchain_community.llms import OpenAI\n",
    "from langchain_core.prompts import ChatPromptTemplate\n",
    "from langchain_huggingface import HuggingFaceEmbeddings\n",
    "from pathlib import Path\n",
    "from tqdm import tqdm\n",
    "from glob import glob\n",
    "import unidecode\n"
   ]
  },
  {
   "cell_type": "code",
   "execution_count": 4,
   "id": "3d1bc878-3a6e-4c8f-b9d0-473d0452357d",
   "metadata": {},
   "outputs": [],
   "source": [
    "import re"
   ]
  },
  {
   "cell_type": "code",
   "execution_count": 5,
   "id": "b50982ec-57d5-45aa-a819-e12af6468ece",
   "metadata": {
    "scrolled": true
   },
   "outputs": [],
   "source": [
    "\n",
    "def normalize(text):\n",
    "    return unidecode.unidecode(text.lower().strip())\n",
    "\n",
    "\n",
    "def clean_summary_titles(summary_titles):\n",
    "    cleaned = []\n",
    "    for title in summary_titles:\n",
    "        stripped = title.strip()\n",
    "        if not stripped:\n",
    "            continue  # Titre vide\n",
    "        if re.fullmatch(r\"[_\\-–—=~\\.]{3,}\", stripped):\n",
    "            continue  \n",
    "        cleaned.append(title)\n",
    "    return cleaned\n",
    "\n",
    "def split_text_with_titles(text, summary):\n",
    "    \"\"\"\n",
    "    Découpe le texte en segments basés sur les titres du sommaire, après normalisation,\n",
    "    en respectant strictement leur ordre d'apparition attendu.\n",
    "    Retourne une liste de (titre_fusionné, texte_segmenté).\n",
    "    \"\"\"\n",
    "    split_texts = []\n",
    "    merged_titles = []\n",
    "\n",
    "    positions = []\n",
    "\n",
    "    normalized_text = normalize(text)\n",
    "    lower_text = text.lower()\n",
    "\n",
    "    position_courante = 0\n",
    "\n",
    "    for sentence in summary:\n",
    "        norm_sentence = normalize(sentence)\n",
    "        pos_norm = normalized_text.find(norm_sentence, position_courante)\n",
    "        if pos_norm != -1:\n",
    "            pos_real = lower_text.find(sentence.lower(), position_courante)\n",
    "            if pos_real != -1:\n",
    "                positions.append(pos_real)\n",
    "                position_courante = pos_real + 1\n",
    "\n",
    "    if not positions:\n",
    "        # Pas de découpage, titre \"Document complet\"\n",
    "        return [(\"Document complet\", text)]\n",
    "\n",
    "    positions = sorted(set(positions))\n",
    "    positions.insert(0, 0)\n",
    "    positions.append(len(text))\n",
    "\n",
    "    i = 0\n",
    "    while i < len(positions) - 1:\n",
    "        start = positions[i]\n",
    "        end = positions[i + 1]\n",
    "\n",
    "        # Calculer les titres concernés par ce segment\n",
    "        # Quand i=0, aucun titre, on peut mettre \"Intro\" ou vide\n",
    "        if i == 0:\n",
    "            titles_group = []\n",
    "        else:\n",
    "            # i-1 correspond à l'index du titre dans summary (car positions contient un 0 en début)\n",
    "            titles_group = [summary[i-1]]\n",
    "\n",
    "        # Vérification de fusion avec le segment suivant\n",
    "        if (end - start) < 150 and i + 2 < len(positions):\n",
    "            # Fusionner textes\n",
    "            next_end = positions[i + 2]\n",
    "\n",
    "            # Fusionner titres associés aux 2 segments\n",
    "            if i == 0:\n",
    "                titles_group = []\n",
    "            else:\n",
    "                # titres des deux segments fusionnés\n",
    "                titles_group = [summary[i-1], summary[i]]\n",
    "\n",
    "            merged_title = \" - \".join(titles_group)\n",
    "            split_texts.append(text[start:next_end].strip())\n",
    "            merged_titles.append(merged_title)\n",
    "            i += 2\n",
    "        else:\n",
    "            # Pas de fusion, un seul titre ou intro\n",
    "            if i == 0:\n",
    "                merged_titles.append(\"Introduction\")\n",
    "            else:\n",
    "                merged_titles.append(summary[i-1])\n",
    "\n",
    "            split_texts.append(text[start:end].strip())\n",
    "            i += 1\n",
    "\n",
    "    return list(zip(merged_titles, split_texts))"
   ]
  },
  {
   "cell_type": "code",
   "execution_count": 6,
   "id": "54c3f03b-f9fc-4a56-952d-4662dc9774c5",
   "metadata": {},
   "outputs": [],
   "source": [
    "df = pd.read_parquet(\"data/echantillon_1000_hs_2024_TOC.parquet\")\n",
    "df = df.rename(columns={\"numdossier_new\":\"numdossier\"})\n",
    "df= df.set_index(\"numdossier\")"
   ]
  },
  {
   "cell_type": "code",
   "execution_count": 7,
   "id": "20f94b5d-e8f8-4c25-b5d4-e8f855bac5c0",
   "metadata": {},
   "outputs": [],
   "source": [
    "df[\"extracted_summary\"] =  df.apply(\n",
    "    lambda row: clean_summary_titles(row[\"extracted_summary\"]),\n",
    "    axis=1\n",
    ")"
   ]
  },
  {
   "cell_type": "code",
   "execution_count": 8,
   "id": "1c4223f9-2866-4ec2-a305-b36ef49a1bfd",
   "metadata": {},
   "outputs": [],
   "source": [
    "df[\"section_dict\"] = df.apply(\n",
    "    lambda row: split_text_with_titles(row[\"accorddocx\"], row[\"extracted_summary\"]),\n",
    "    axis=1\n",
    ")"
   ]
  },
  {
   "cell_type": "code",
   "execution_count": 9,
   "id": "0cf85a3b-d2d4-4a61-be39-3a02f987b855",
   "metadata": {},
   "outputs": [],
   "source": [
    "\n",
    "# Extraire les valeurs de la ligne avec l'index \"T07524067789\"\n",
    "row = df.loc[\"T05724061388\"]\n",
    "\n",
    "# Initialiser df_test avec une seule ligne\n",
    "df_test = pd.DataFrame({\n",
    "    \"accorddocx\": [row[\"accorddocx\"]],\n",
    "    \"extracted_summary\": [row[\"extracted_summary\"]],\n",
    "    \"section_dict\": [row[\"section_dict\"]]\n",
    "}, index=[\"T05724061388\"])\n"
   ]
  },
  {
   "cell_type": "code",
   "execution_count": 10,
   "id": "364b0338-6d14-49cf-a15d-316045026be3",
   "metadata": {},
   "outputs": [],
   "source": [
    "text = df_test[\"accorddocx\"].iloc[0]\n",
    "summary = df_test[\"extracted_summary\"].iloc[0]\n",
    "list_decoupage = df_test[\"section_dict\"].iloc[0]"
   ]
  },
  {
   "cell_type": "code",
   "execution_count": 11,
   "id": "32998662-e04b-45c3-a0e6-238b073082c6",
   "metadata": {
    "scrolled": true
   },
   "outputs": [
    {
     "data": {
      "text/plain": [
       "[('Introduction',\n",
       "  \"Entre :\\n\\nLa Société AQUA DULCE, SAS inscrite au R.C.S de Nancy sous le n° 887\\xa0641\\xa0124 00011, et dont le siège est situé AVENUE DES SAULNIERS, 57170 CHATEAU-SALINS, représentée par Monsieur …, agissant en qualité de Président, dûment habilitée aux fins des présentes.\\n\\nD’une part,\\n\\nCi-après désignée « la Société »,\\n\\n\\nEt :\\n\\nLes salariés de la Société AQUA DULCE,\\nAuxquels un exemplaire de l’accord a été remis le 12/04/2024\\nL’ayant approuvé, à la majorité des deux tiers, le 29/04/2024\\n(Procès-verbal du référendum joint au présent accord)\\n\\nD'autre part,\\n\\nIl a été conclu le présent accord d’entreprise en application des dispositions des articles L. 2232-21 et suivants du Code du travail.\"),\n",
       " ('Préambule',\n",
       "  'Préambule\\n\\nEn application des articles L. 2232-21 et suivants du Code du travail, les Parties ont souhaité conclure un accord visant à définir certains points relatifs à l’organisation du temps de travail en vigueur dans l’entreprise. \\n\\nLes parties ont en effet constaté qu’un cadre spécifique à l’entreprise AQUA DULCE devait être mis en place afin de concilier les souhaits des salariés et les impératifs économiques de la Société.\\n\\nCet accord poursuit donc les objectifs suivants :\\n\\nFixer le taux de majoration des heures supplémentaires dans l’entreprise ;\\n\\nFixer le contingent annuel d’heures supplémentaires dans l’entreprise ;\\n\\nFixer les conditions d’accomplissement d’heures supplémentaires au-delà du contingent annuel ainsi que la durée, les caractéristiques et les conditions de prise de la contrepartie obligatoire en repos ;\\n\\nPréciser les contours du temps de travail effectif et du temps de trajet, s’agissant notamment des salariés itinérants ;\\n\\nMettre en place et définir les modalités d’une organisation particulière du travail pour les salariés techniciens itinérants intervenant en clientèle\\xa0;'),\n",
       " ('Fixer la date et les modalités d’accomplissement de la journée de solidarité.',\n",
       "  'Fixer la date et les modalités d’accomplissement de la journée de solidarité.\\n\\n\\nLe présent accord s’applique à l’ensemble du personnel de la société AQUA DULCE, à l’exception :\\n\\nDes cadres dirigeants au sens de l’article L. 3111-2 du code du travail\\xa0;\\nDes apprentis\\xa0;\\nDes salariés qui pourraient être soumis à un forfait annuel en jours.\\n\\n\\nSous réserve d’un champ d’application particulier précisé dans les articles ci-dessous.'),\n",
       " ('Notion de temps de travail effectif',\n",
       "  \"Notion de temps de travail effectif\\n\\nConformément aux dispositions de l’article L. 3121-1 du Code du travail, la durée du travail effectif est définie comme le temps pendant lequel le salarié est à la disposition de l'employeur et se conforme à ses directives sans pouvoir vaquer librement à des occupations personnelles.\"),\n",
       " ('Heures supplémentaires - Définition',\n",
       "  'Heures supplémentaires\\n\\n\\nDéfinition\\n\\nSeules sont considérées comme des heures supplémentaires, les heures de travail accomplies à la demande expresse de l’employeur au-delà de la durée légale ou conventionnelle du travail, fixée actuellement dans l’entreprise à 35 heures de travail effectif par semaine civile.\\nCes heures supplémentaires seront prises en compte et rémunérées comme suit.'),\n",
       " ('Rémunération et repos compensateur',\n",
       "  \"Rémunération et repos compensateur\\n\\nLes heures supplémentaires accomplies au-delà de la durée légale hebdomadaire donnent lieu à une majoration de salaire de 10 %.\\n\\nLe principe fixé par les parties est donc le paiement des heures supplémentaires réalisées. \\n\\nToutefois, notamment en cas de baisse d’activité de l’entreprise, tout ou partie de ces heures pourront faire l’objet d’un repos compensateur de remplacement équivalent (attribution d'un repos d’une durée équivalente à celle des heures supplémentaires effectuées majorées de 10 %). Dans ce cas, ces nouvelles modalités feront l’objet d’une information des salariés au moins un mois avant leur entrée en vigueur.\\n\\nDans cette hypothèse, les heures de repos prendraient la forme de jours de congés supplémentaires au choix de l’employeur (journées ou demi-journées).\\n\\nDès l’acquisition de sept heures de repos compensateur de remplacement, les salariés seraient alors tenus informés du nombre d'heures de repos compensateur de remplacement portées à leur crédit par un document annexé au bulletin de paie. \\n\\nLes dates de prise des repos compensateurs seraient définies après demande du salarié après accord de l’employeur, en fonction des impératifs liés au fonctionnement de l'entreprise.\"),\n",
       " ('Contingent annuel d’heures supplémentaires',\n",
       "  'Contingent annuel d’heures supplémentaires\\n\\nLe contingent d’heures supplémentaires applicable sera de 300 heures par salarié et par année civile à compter de l’année 2024.'),\n",
       " ('Heures supplémentaires accomplies au-delà du contingent',\n",
       "  \"Heures supplémentaires accomplies au-delà du contingent\\n\\nLes heures supplémentaires accomplies au-delà du contingent annuel donneront lieu à une contrepartie obligatoire en repos dont la durée sera calculée selon les dispositions légales ou conventionnelles.\\n\\nLe droit à contrepartie obligatoire en repos est réputé ouvert dès que la durée de ce repos atteint sept heures. La journée ou demi-journée au cours de laquelle le repos est pris est déduite du droit à repos à raison du nombre d'heures de travail que le salarié aurait accompli pendant cette journée ou cette demi-journée.\\n\\nDès l’acquisition de sept heures de repos compensateur de sept heures de contrepartie obligatoire en repos, les salariés seront alors tenus informés du nombre d'heures portées à leur crédit par un document annexé au bulletin de paie.\\n\\nLes dates de prise des repos compensateurs seront définies après demande du salarié après accord de l’employeur, en fonction des impératifs liés au fonctionnement de l'entreprise.\\n\\nLa contrepartie obligatoire en repos est prise dans un délai maximum de trois mois suivant l'ouverture du droit.\"),\n",
       " ('Indemnisation des déplacements des techniciens itinérants - Temps de trajet domicile – travail',\n",
       "  \"Indemnisation des déplacements des techniciens itinérants\\n\\n\\nTemps de trajet domicile – travail\\n\\nL’article L. 3121-4 du Code du travail prévoit que « le temps de déplacement professionnel pour se rendre sur le lieu d'exécution du contrat de travail n'est pas un temps de travail effectif. Toutefois, s'il dépasse le temps normal de trajet entre le domicile et le lieu habituel de travail, il fait l'objet d'une contrepartie soit sous forme de repos, soit financière. Cette contrepartie est déterminée par convention ou accord collectif de travail ou, à défaut, par décision unilatérale de l'employeur prise après consultation du comité d'entreprise ou des délégués du personnel, s'il en existe. La part de ce temps de déplacement professionnel coïncidant avec l'horaire de travail n'entraîne aucune perte de salaire ».\\n\\nLes Parties constatent que les conditions dans lesquelles les temps de trajets domicile/ premier et dernier clients réalisés par les techniciens itinérants au sein de la Société AQUA DULCE ne correspondent pas à la définition légale du temps de travail effectif mentionnée au I du présent chapitre. \\n\\nNotamment, durant ces périodes ceux-ci ne sont pas amenés à réaliser de prestations de travail, à fixer des rendez-vous, ou à appeler et répondre à leurs divers interlocuteurs (clients, techniciens, etc.) et restent libres de pouvoir vaquer à des occupations personnelles.\\n\\nLe temps de déplacement qui excèderait le temps de trajet habituel n’est pas non plus du temps de travail effectif, il n’est pas non-plus assimilé à celui-ci mais doit faire l’objet d’une compensation.\\n\\nLe temps de déplacement professionnel n'entre pas dans le décompte de la durée du travail, en particulier pour le calcul des durées quotidienne et hebdomadaire maximales de travail ou pour l'application de la législation sur les heures supplémentaires. Il n'a pas à être rémunéré, sauf coïncidence avec l'horaire de travail.\\n\\nPour les salariés itinérants, il convient de distinguer au sein du trajet domicile/client, la fraction :\\n\\nQui relèverait du temps normal de trajet domicile/travail (qui n’est pas du temps de travail effectif, et ne donne lieu à aucune contrepartie)\\xa0;\\n\\nEt celle qui viendrait en sus de ce temps normal, et qui, sans être du temps de travail effectif, devrait toutefois donner lieu à compensation.\\n\\nAu regard des spécificités de l’entreprise et de la volonté des Parties d’uniformiser les règles applicables aux techniciens itinérants dans l’entreprise, il est convenu que le présent accord fixe un «\\xa0temps normal de trajet\\xa0» au-delà duquel le technicien itinérant percevra une compensation financière. \\n\\nLe domicile du salarié pris en compte est la résidence principale déclarée à l’employeur par le salarié.\\n\\nLe «\\xa0temps normal de trajet\\xa0» est fixé par les Parties à 1h aller-retour, réparti de la manière suivante : 30 minutes pour le premier trajet aller et 30 minutes pour le dernier trajet retour.\\n\\nLe temps de déplacement qui excède le temps normal de trajet fera l’objet d’une compensation salariale d’un montant de 6.40 € brut de l’heure.\"),\n",
       " ('Temps de trajet accompli entre deux lieux de travail',\n",
       "  \"Temps de trajet accompli entre deux lieux de travail\\n\\nLes temps de trajet accomplis entre deux lieux de travail doivent être décomptés comme du temps de travail effectif lorsque le salarié est, pendant cette période, sous l'autorité de l'employeur\"),\n",
       " ('Salariés concernés - Organisation du temps de travail ',\n",
       "  'Salariés concernés\\n\\nSont concernés par cette organisation du temps de travail les salariés, en contrat à durée indéterminée ou déterminée, occupant des fonctions de techniciens itinérants (hors techniciens sédentaires). \\n\\nOrganisation du temps de travail'),\n",
       " ('Répartition de la durée du travail',\n",
       "  'Répartition de la durée du travail\\n\\nLes signataires du présent accord souhaitent rappeler que la durée hebdomadaire de travail effectif des salariés visés ci-dessus est fixée à 35 heures, répartie sur 5 jours.\\n\\nToutefois, en fonction des besoins de l’entreprise, des impératifs techniques et afin de concilier les aspirations des salariés et les nécessités économiques, la Direction pourra mettre en place sur certains secteurs et pour certaines périodes identifiées préalablement, une répartition du travail sur 4 jours, après échange avec les salariés concernés.\\n\\nDans le cas d’une répartition du travail sur 4 jours, la durée quotidienne de travail effectif est fixée à 8 heures 45. \\n\\nA titre informatif, et sous réserve de modifications ultérieures par l’employeur, les horaires seraient dans ce cas fixés comme suit au jour des présentes\\xa0:'),\n",
       " ('de 8h30 à 13h00 et 13h30 à 17h45 pour les techniciens itinérants.',\n",
       "  'de 8h30 à 13h00 et 13h30 à 17h45 pour les techniciens itinérants.\\n\\nIl est rappelé que ces horaires, qui peuvent évoluer dans le cadre du pouvoir d’organisation de l’employeur, doivent être strictement respectés et qu’une heure supplémentaire ne peut être effectuée qu’en cas de demande expresse et préalable de la Direction ou après autorisation de celle-ci.'),\n",
       " ('Jour non travaillé en cas de répartition des horaires sur quatre jours',\n",
       "  \"Jour non travaillé en cas de répartition des horaires sur quatre jours\\n\\nAfin de garantir au sein de la Société la présence d'effectifs suffisants toute la semaine pour assurer un service continu, et répondre aux impératifs de la clientèle, un planning sera mis en place avec, le cas échéant, un roulement du jour ouvré non travaillé dans le cadre de la semaine de quatre jours. \\n\\nCe planning est communiqué par tout moyen aux salariés. Il peut être modifié si les besoins de fonctionnement de la Société et/ou les impératifs de la clientèle le justifient. Une telle modification sera notifiée dans un délai raisonnable (au moins 48h).\"),\n",
       " ('Jours fériés en cas de répartition des horaires sur quatre jours',\n",
       "  \"Jours fériés en cas de répartition des horaires sur quatre jours\\n\\nLa coïncidence entre un jour férié et un jour non travaillé dans le cadre de l’organisation de la semaine sur quatre jours n'ouvre droit ni à repos supplémentaire ni à indemnité compensatrice.\\n\\nAutrement dit, aucun repos complémentaire ni contrepartie n’est du lorsque le jour non travaillé d’un salarié tombe, conformément au planning fixé par la Direction, à la même date qu’un jour férié.\"),\n",
       " ('Congés payés en cas de répartition des horaires sur quatre jours',\n",
       "  \"Congés payés en cas de répartition des horaires sur quatre jours\\n\\nLes congés payés restent acquis de la même manière que pour les autres salariés et le décompte sera également réalisé en jours ouvrés.\\n\\nUne répartition sur quatre jours ne conduira pas le salarié à bénéficier de plus de jours de congés qu’un salarié dont la répartition des horaires serait réalisée sur cinq jours. Ainsi, la prise d’une semaine de congés pour un salarié dont l’horaire est réparti sur 4 jours entraînerait le décompte de 5 jours de congés.\\n\\n\\n\\n\\nIl est convenu que la journée de solidarité sera exercée collectivement le Lundi de Pentecôte.\\n\\nLe travail de cette journée ne donnera pas lieu à paiement supplémentaire dans la limite de 7 heures (ou de la durée proportionnelle à la durée contractuelle en cas de temps partiel).\\n\\nLes heures réalisées au-delà de cette durée seront rémunérées.\\n\\nIl est convenu entre les parties que pour le personnel concerné, la réalisation de l'horaire habituel de travail validera intégralement la journée de solidarité.\\n\\nPar exception, certaines personnes pourront ne pas être présentes.\\n\\nLes personnes concernées pourront dans ce cas, après accord de leur responsable hiérarchique, exercer la journée de solidarité par la pose d'une journée de congé ou de repos compensateur le cas échéant.\\n\\n\\n\\n\\n\\n\\nDate d’application - Durée de l'accord\\n\\nLe présent accord est conclu pour une durée indéterminée et commencera à s’appliquer à compter du 02 mai 2024.\"),\n",
       " ('Révision - Dénonciation',\n",
       "  \"Révision - Dénonciation\\n\\nPendant sa durée d'application, le présent accord peut être révisé dans les conditions fixées par le Code du travail. Un avenant de révision peut être proposé aux salariés par l’employeur. La consultation du personnel pourra alors être organisée à l'issue d'un délai minimum de quinze jours courant à compter de la communication à chaque salarié du projet d’avenant de révision.\\n\\nLes conditions précises d’organisation de la consultation du personnel sont fixées selon les dispositions législatives et règlementaires en vigueur.\\n\\nLes dispositions de l'avenant de révision se substitueront de plein droit à celles de l'accord qu'elles modifieront, soit à la date qui aura été expressément convenue soit, à défaut, à partir du lendemain de son dépôt.\\n\\nLe présent accord pourra être dénoncé à tout moment par l’employeur ou par les salariés dans les conditions prévues par l’article L. 2232-22 du Code du travail.\\n\\nLa dénonciation devra intervenir au moins trois mois avant le terme d’une période de référence annuelle pour s’appliquer à la période annuelle de référence suivante.\\n\\nLe délai de trois mois sera mis à profit pour négocier un nouvel accord.\\n\\nLa dénonciation est notifiée, par lettre recommandée avec avis de réception, par son auteur, aux autres signataires de l’accord.\\n\\nLa dénonciation ou la révision doivent donner lieu à dépôt, dans les mêmes conditions que concernant le présent accord.\"),\n",
       " ('Article 13 - Notification et dépôt',\n",
       "  \"Article 13 - Notification et dépôt\\n\\nConformément aux articles D. 2231-2 et D. 2231-4 du code du travail, le présent accord ainsi que le procès-verbal du référendum seront déposés par la Société sur la plateforme de téléprocédure du ministère du travail : www.teleaccords.travail-emploi.gouv.fr.\\n\\nUn exemplaire du présent accord sera envoyé au secrétariat-greffe du conseil des prud'hommes du lieu de conclusion.\\n\\nConformément à l'article L. 2231-5-1 du code du travail, le présent accord sera, après anonymisation des noms et prénoms des négociateurs et des signataires de l'accord, rendu public et versé dans la base de données nationale des accords collectifs.\\n\\nLe projet d’accord a été présenté aux salariés lors d’une réunion qui s’est tenue le …. 2024, sauf pour les salariés absents à cette date ou travaillant hors du siège social à qui un exemplaire du présent accord a été adressé par mail avec demande d’avis de lecture et de réception.\\n\\nUn exemplaire du présent accord a été remis aux salariés lors de cette réunion. Cet accord fera également l’objet d’un affichage au sein de la Société\\n\\n\\n\\nFait à CHATEAU-SALINS, le 29 avril 2024.\\n\\n\\n\\nPour la Société AQUA DULCE\\t\\t\\t\\t   Pour les salariés de la Société AQUA DULCE\\nPrésident\\n\\n\\t      \\n\\t\\t\\t\\t\\t   (Procès-verbal joint au présent accord)\"),\n",
       " ('PROCES VERBAL DU REFERENDUM AUPRES DES SALARIES SUR LE PROJET D’ACCORD D’ENTREPRISE RELATIF A L’AMENAGEMENT DU TEMPS DE TRAVAIL AU SEIN DE LA SOCIETE AQUA DULCE',\n",
       "  \"PROCES VERBAL DU REFERENDUM AUPRES DES SALARIES SUR LE PROJET D’ACCORD D’ENTREPRISE RELATIF A L’AMENAGEMENT DU TEMPS DE TRAVAIL AU SEIN DE LA SOCIETE AQUA DULCE\\n\\n\\nQuestion soumise aux salariés de l’Entreprise AQUA DULCE :\\n\\n«\\xa0Approuvez-vous le projet d’accord qui vous a été proposé le 12 avril 2024 ?\\xa0»\\n\\nProjet d’accord communiqué par l’employeur aux salariés le\\xa0: 12 avril 2024\\xa0;\\nDate du référendum\\xa0: 29 avril 2024.\\n\\nLes modalités du référendum, ainsi que la liste des salariés pouvant participer au référendum ont fait l'objet d'une communication aux salariés, intervenue le 12 avril 2024.\"),\n",
       " ('Bureau composé de\\xa0: - …, Président\\xa0;',\n",
       "  'Bureau composé de\\xa0:\\n…, Président\\xa0;'),\n",
       " ('…, Assesseur.',\n",
       "  '…, Assesseur.\\n\\nLe scrutin s’est déroulé de 11 heures à 12 heures dans les locaux de la société, situés AVENUE DES SAULNIERS, 57170 CHATEAU-SALINS.\\n\\nNombre de salariés inscrits\\xa0: 3\\nNombre d’émargements sur la liste des salariés inscrits\\xa0: 3\\nNombre d’enveloppes dans l’urne\\xa0: 3\\nNombre de bulletins considérés comme blancs ou nuls\\xa0: 0\\n\\nNombre de suffrages valablement exprimés\\xa0: 3\\n\\nNombre de bulletins «\\xa0OUI\\xa0»\\xa0: 3\\nNombre de bulletins «\\xa0NON\\xa0» : 0\\n\\nLa condition de majorité des 2/3 du personnel étant remplie, l’accord d’entreprise du 12 avril 2024 relatif à l’aménagement du temps de travail est approuvé par le personnel de l’entreprise.\\n\\nIl entrera en vigueur le 2 mai 2024. Le présent procès-verbal sera affiché au sein des locaux de la Société.\\n\\nFait le 29 avril 2024,\\n\\nPour le bureau de vote\\n\\n…\\n…')]"
      ]
     },
     "execution_count": 11,
     "metadata": {},
     "output_type": "execute_result"
    }
   ],
   "source": [
    "list_decoupage"
   ]
  },
  {
   "cell_type": "code",
   "execution_count": 12,
   "id": "48dca2fd-372f-4f72-89ec-b41c215cc6ca",
   "metadata": {},
   "outputs": [
    {
     "data": {
      "application/vnd.jupyter.widget-view+json": {
       "model_id": "96dd37a94571471aa9929253aa6a009e",
       "version_major": 2,
       "version_minor": 0
      },
      "text/plain": [
       "modules.json:   0%|          | 0.00/349 [00:00<?, ?B/s]"
      ]
     },
     "metadata": {},
     "output_type": "display_data"
    },
    {
     "data": {
      "application/vnd.jupyter.widget-view+json": {
       "model_id": "874b6db2649743de903a87faf32a502f",
       "version_major": 2,
       "version_minor": 0
      },
      "text/plain": [
       "config_sentence_transformers.json:   0%|          | 0.00/123 [00:00<?, ?B/s]"
      ]
     },
     "metadata": {},
     "output_type": "display_data"
    },
    {
     "data": {
      "application/vnd.jupyter.widget-view+json": {
       "model_id": "b749207be16049d59b21bc5f0f563bfd",
       "version_major": 2,
       "version_minor": 0
      },
      "text/plain": [
       "README.md: 0.00B [00:00, ?B/s]"
      ]
     },
     "metadata": {},
     "output_type": "display_data"
    },
    {
     "data": {
      "application/vnd.jupyter.widget-view+json": {
       "model_id": "15cdacf1415d430884a2d1b110942f9e",
       "version_major": 2,
       "version_minor": 0
      },
      "text/plain": [
       "sentence_bert_config.json:   0%|          | 0.00/54.0 [00:00<?, ?B/s]"
      ]
     },
     "metadata": {},
     "output_type": "display_data"
    },
    {
     "data": {
      "application/vnd.jupyter.widget-view+json": {
       "model_id": "b6dee07914d84a6f8092353a3ca17fe8",
       "version_major": 2,
       "version_minor": 0
      },
      "text/plain": [
       "config.json:   0%|          | 0.00/687 [00:00<?, ?B/s]"
      ]
     },
     "metadata": {},
     "output_type": "display_data"
    },
    {
     "data": {
      "application/vnd.jupyter.widget-view+json": {
       "model_id": "d21ec80214ab4dc0b8765902cbfa285d",
       "version_major": 2,
       "version_minor": 0
      },
      "text/plain": [
       "pytorch_model.bin:   0%|          | 0.00/2.27G [00:00<?, ?B/s]"
      ]
     },
     "metadata": {},
     "output_type": "display_data"
    },
    {
     "data": {
      "application/vnd.jupyter.widget-view+json": {
       "model_id": "7dedcd70585a4d44a550f443622bdcdc",
       "version_major": 2,
       "version_minor": 0
      },
      "text/plain": [
       "model.safetensors:   0%|          | 0.00/2.27G [00:00<?, ?B/s]"
      ]
     },
     "metadata": {},
     "output_type": "display_data"
    },
    {
     "data": {
      "application/vnd.jupyter.widget-view+json": {
       "model_id": "6fb8f9acf9c2485c9f76f28c402d09a2",
       "version_major": 2,
       "version_minor": 0
      },
      "text/plain": [
       "tokenizer_config.json:   0%|          | 0.00/444 [00:00<?, ?B/s]"
      ]
     },
     "metadata": {},
     "output_type": "display_data"
    },
    {
     "data": {
      "application/vnd.jupyter.widget-view+json": {
       "model_id": "eb0dcaafa479475ba45ddda38265dfad",
       "version_major": 2,
       "version_minor": 0
      },
      "text/plain": [
       "sentencepiece.bpe.model:   0%|          | 0.00/5.07M [00:00<?, ?B/s]"
      ]
     },
     "metadata": {},
     "output_type": "display_data"
    },
    {
     "data": {
      "application/vnd.jupyter.widget-view+json": {
       "model_id": "169ea81d3417462cb4dd344c90cd7932",
       "version_major": 2,
       "version_minor": 0
      },
      "text/plain": [
       "tokenizer.json:   0%|          | 0.00/17.1M [00:00<?, ?B/s]"
      ]
     },
     "metadata": {},
     "output_type": "display_data"
    },
    {
     "data": {
      "application/vnd.jupyter.widget-view+json": {
       "model_id": "102ba591405e42fa8214d8ccb1aa8c9b",
       "version_major": 2,
       "version_minor": 0
      },
      "text/plain": [
       "special_tokens_map.json:   0%|          | 0.00/964 [00:00<?, ?B/s]"
      ]
     },
     "metadata": {},
     "output_type": "display_data"
    },
    {
     "data": {
      "application/vnd.jupyter.widget-view+json": {
       "model_id": "c7e251c0d91944ef98d3b43178e81228",
       "version_major": 2,
       "version_minor": 0
      },
      "text/plain": [
       "config.json:   0%|          | 0.00/191 [00:00<?, ?B/s]"
      ]
     },
     "metadata": {},
     "output_type": "display_data"
    }
   ],
   "source": [
    "if (torch.cuda.is_available()):\n",
    "    DEVICE=\"cuda\"\n",
    "else:\n",
    "    DEVICE=\"cpu\"\n",
    "    \n",
    "model_kwargs = {'device': \"cuda\"}\n",
    "MODEL_NAME_EMBEDDER=\"BAAI/bge-m3\"\n",
    "\n",
    "embedder = HuggingFaceEmbeddings(\n",
    "    model_name=MODEL_NAME_EMBEDDER, \n",
    "    model_kwargs=model_kwargs,\n",
    "    show_progress=False\n",
    ")"
   ]
  },
  {
   "cell_type": "code",
   "execution_count": 13,
   "id": "6e16a21d-2352-44e8-a039-31250b18c035",
   "metadata": {},
   "outputs": [
    {
     "name": "stderr",
     "output_type": "stream",
     "text": [
      "Failed to send telemetry event ClientStartEvent: capture() takes 1 positional argument but 3 were given\n",
      "Failed to send telemetry event ClientCreateCollectionEvent: capture() takes 1 positional argument but 3 were given\n"
     ]
    }
   ],
   "source": [
    "vector_store = Chroma(embedding_function=embedder,\n",
    "                      persist_directory=\"./chroma_db_article\"  #répertoire pour stocker les données\n",
    ")"
   ]
  },
  {
   "cell_type": "code",
   "execution_count": 14,
   "id": "b277aa83-0b6a-4441-9c64-f768167e6c87",
   "metadata": {},
   "outputs": [],
   "source": [
    "def add_chunks_to_vectorstore(df, vector_store):\n",
    "    for index, row in tqdm(df.iterrows(), total=len(df)):\n",
    "        numdossier = str(index)\n",
    "        section_dict = row['section_dict']\n",
    "        documents = []\n",
    "        i = 0\n",
    "        for i, (title,chunk) in enumerate(section_dict): \n",
    "            chunk = str(chunk)\n",
    "            title = str(title)\n",
    "            metadata = {\n",
    "                \"id\": f\"{numdossier}_{i}\",\n",
    "                \"numdossier\": numdossier, \n",
    "                 \"title\" : title\n",
    "            }\n",
    "            doc = Document(page_content=chunk, metadata=metadata)\n",
    "            documents.append(doc)\n",
    "            i += 1\n",
    "        if documents:\n",
    "            vector_store.add_documents(documents)\n",
    "\n"
   ]
  },
  {
   "cell_type": "code",
   "execution_count": null,
   "id": "f8d36638-7afd-4381-9d43-af3e94e45e54",
   "metadata": {},
   "outputs": [
    {
     "name": "stderr",
     "output_type": "stream",
     "text": [
      "\n",
      "  0%|          | 0/1000 [00:00<?, ?it/s]\u001b[A\n",
      "  0%|          | 1/1000 [00:02<33:31,  2.01s/it]\u001b[A\n",
      "  0%|          | 2/1000 [00:03<25:16,  1.52s/it]\u001b[A\n",
      "  0%|          | 3/1000 [00:07<49:59,  3.01s/it]\u001b[A\n",
      "  0%|          | 4/1000 [00:08<34:24,  2.07s/it]\u001b[A\n",
      "  0%|          | 5/1000 [00:08<23:28,  1.42s/it]\u001b[A\n",
      "  1%|          | 6/1000 [00:09<19:59,  1.21s/it]\u001b[A\n",
      "  1%|          | 7/1000 [00:11<22:17,  1.35s/it]\u001b[A\n",
      "  1%|          | 8/1000 [00:12<19:13,  1.16s/it]\u001b[A\n",
      "  1%|          | 9/1000 [00:12<17:14,  1.04s/it]\u001b[A\n",
      "  1%|          | 10/1000 [00:13<13:59,  1.18it/s]\u001b[A\n",
      "  1%|          | 11/1000 [00:13<13:12,  1.25it/s]\u001b[A\n",
      "  1%|          | 12/1000 [00:14<14:12,  1.16it/s]\u001b[A\n",
      "  1%|▏         | 13/1000 [00:21<42:09,  2.56s/it]\u001b[A\n",
      "  1%|▏         | 14/1000 [00:22<36:21,  2.21s/it]\u001b[A\n",
      "  2%|▏         | 15/1000 [00:23<28:21,  1.73s/it]\u001b[A\n",
      "  2%|▏         | 16/1000 [00:25<31:32,  1.92s/it]\u001b[A\n",
      "  2%|▏         | 17/1000 [00:26<24:47,  1.51s/it]\u001b[A\n",
      "  2%|▏         | 18/1000 [00:33<50:14,  3.07s/it]\u001b[A\n",
      "  2%|▏         | 19/1000 [00:37<54:25,  3.33s/it]\u001b[A\n",
      "  2%|▏         | 20/1000 [00:46<1:24:05,  5.15s/it]\u001b[A\n",
      "  2%|▏         | 21/1000 [00:50<1:20:10,  4.91s/it]\u001b[A\n",
      "  2%|▏         | 22/1000 [00:53<1:10:14,  4.31s/it]\u001b[A\n",
      "  2%|▏         | 23/1000 [00:54<51:19,  3.15s/it]  \u001b[A"
     ]
    }
   ],
   "source": [
    "add_chunks_to_vectorstore(df,vector_store)"
   ]
  },
  {
   "cell_type": "code",
   "execution_count": null,
   "id": "e8790e07-41c1-4730-a778-c37c7205b2b7",
   "metadata": {},
   "outputs": [],
   "source": [
    "!mc cp -r chroma_db_article s3/$VAULT_TOP_DIR/Rania/Accords"
   ]
  }
 ],
 "metadata": {
  "kernelspec": {
   "display_name": "Python (uv)",
   "language": "python",
   "name": "my-uv-env"
  },
  "language_info": {
   "codemirror_mode": {
    "name": "ipython",
    "version": 3
   },
   "file_extension": ".py",
   "mimetype": "text/x-python",
   "name": "python",
   "nbconvert_exporter": "python",
   "pygments_lexer": "ipython3",
   "version": "3.13.5"
  }
 },
 "nbformat": 4,
 "nbformat_minor": 5
}
