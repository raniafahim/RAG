{
 "cells": [
  {
   "cell_type": "code",
   "execution_count": 1,
   "id": "21f69a7a-4a54-4228-b1ec-c671f49127f8",
   "metadata": {},
   "outputs": [
    {
     "name": "stdout",
     "output_type": "stream",
     "text": [
      "\u001b]11;?\u001b\\\u001b[6n\u001b[32;1mmc: \u001b[0m\u001b[32;1mConfiguration written to `/home/onyxia/.mc/config.json`. Please update your access credentials.\u001b[0;22m\n",
      "\u001b[32;1mmc: \u001b[0m\u001b[32;1mSuccessfully created `/home/onyxia/.mc/share`.\n",
      "\u001b[0m\u001b[32;1mmc: \u001b[0m\u001b[32;1mInitialized share uploads `/home/onyxia/.mc/share/uploads.json` file.\n",
      "\u001b[0m\u001b[32;1mmc: \u001b[0m\u001b[32;1mInitialized share downloads `/home/onyxia/.mc/share/downloads.json` file.\n",
      "...ma.sqlite3: 347.60 MiB / 347.60 MiB ┃▓▓▓▓▓▓▓▓▓▓▓▓▓▓▓▓▓▓▓▓▓▓▓▓┃ 78.23 MiB/s 4s\u001b[0;22m\u001b[0m\u001b[m\u001b[32;1m"
     ]
    }
   ],
   "source": [
    "!mc cp -r s3/cthiounn2/Rania/Accords/chroma_db_article ."
   ]
  },
  {
   "cell_type": "code",
   "execution_count": 2,
   "id": "47881889-e35d-408d-92c8-4cc096b61d3f",
   "metadata": {},
   "outputs": [],
   "source": [
    "!uv pip install -q langchain==0.2.16 matplotlib langchain-community==0.2.16 langchain-huggingface==0.0.3 langchain-text-splitters==0.2.4 chromadb==0.5.3 langchain-chroma==0.1.3 pandas ipywidgets"
   ]
  },
  {
   "cell_type": "code",
   "execution_count": 3,
   "id": "021a52bc-23ce-4a81-acad-49f9af0ba137",
   "metadata": {},
   "outputs": [],
   "source": [
    "!uv pip install -q pyarrow"
   ]
  },
  {
   "cell_type": "code",
   "execution_count": 4,
   "id": "eb8ce807-e5b6-4189-b7ee-59aa9b1b24a3",
   "metadata": {},
   "outputs": [],
   "source": [
    "!uv pip install -q seaborn"
   ]
  },
  {
   "cell_type": "code",
   "execution_count": 5,
   "id": "fd728cfb-8455-4a8d-9592-dec5e956ba01",
   "metadata": {},
   "outputs": [],
   "source": [
    "!uv pip install -q unidecode"
   ]
  },
  {
   "cell_type": "code",
   "execution_count": 6,
   "id": "20a2c6c9-0a47-4e05-84fa-388a8690819b",
   "metadata": {},
   "outputs": [],
   "source": [
    "import pandas as pd\n",
    "from langchain_huggingface import HuggingFaceEmbeddings\n",
    "from langchain.vectorstores import Chroma\n",
    "from langchain_chroma import Chroma\n",
    "from langchain.embeddings import OpenAIEmbeddings, OllamaEmbeddings\n",
    "from langchain.document_loaders import TextLoader\n",
    "from langchain.schema import Document, Generation, LLMResult\n",
    "from langchain.llms import Ollama, BaseLLM\n",
    "from langchain.chains import StuffDocumentsChain, RetrievalQA, LLMChain\n",
    "from langchain_core.prompts import PromptTemplate\n",
    "from langchain_community.llms import OpenAI\n",
    "from langchain_text_splitters import CharacterTextSplitter\n",
    "from langchain.chains import create_retrieval_chain\n",
    "from langchain.chains.combine_documents import create_stuff_documents_chain\n",
    "from langchain_core.prompts import ChatPromptTemplate\n",
    "from pathlib import Path\n",
    "import json\n",
    "import requests\n",
    "import re"
   ]
  },
  {
   "cell_type": "code",
   "execution_count": 7,
   "id": "1f251259-7083-4ca2-8519-fe9a2140a55d",
   "metadata": {},
   "outputs": [],
   "source": [
    "import unidecode\n"
   ]
  },
  {
   "cell_type": "code",
   "execution_count": 8,
   "id": "0a80ad9d-60a2-46c5-81d4-4c371ce0ac4e",
   "metadata": {},
   "outputs": [],
   "source": [
    "from glob import glob"
   ]
  },
  {
   "cell_type": "markdown",
   "id": "70fa6cd3-ae33-4d09-9b1e-b2302ff9ae7e",
   "metadata": {},
   "source": [
    "# Utils"
   ]
  },
  {
   "cell_type": "code",
   "execution_count": 9,
   "id": "875bb85f-3e5a-4a67-81c7-2967a86b11d4",
   "metadata": {},
   "outputs": [
    {
     "data": {
      "application/vnd.jupyter.widget-view+json": {
       "model_id": "d048db52da9f458482054877cde1a1e7",
       "version_major": 2,
       "version_minor": 0
      },
      "text/plain": [
       "modules.json:   0%|          | 0.00/349 [00:00<?, ?B/s]"
      ]
     },
     "metadata": {},
     "output_type": "display_data"
    },
    {
     "data": {
      "application/vnd.jupyter.widget-view+json": {
       "model_id": "5f26d47e43094c8097bba973a67e340b",
       "version_major": 2,
       "version_minor": 0
      },
      "text/plain": [
       "config_sentence_transformers.json:   0%|          | 0.00/123 [00:00<?, ?B/s]"
      ]
     },
     "metadata": {},
     "output_type": "display_data"
    },
    {
     "data": {
      "application/vnd.jupyter.widget-view+json": {
       "model_id": "8bf36694f73d4c528e371b70e2951aea",
       "version_major": 2,
       "version_minor": 0
      },
      "text/plain": [
       "README.md: 0.00B [00:00, ?B/s]"
      ]
     },
     "metadata": {},
     "output_type": "display_data"
    },
    {
     "data": {
      "application/vnd.jupyter.widget-view+json": {
       "model_id": "c7288ea48e4d4f30ae0bcfa01a906ad9",
       "version_major": 2,
       "version_minor": 0
      },
      "text/plain": [
       "sentence_bert_config.json:   0%|          | 0.00/54.0 [00:00<?, ?B/s]"
      ]
     },
     "metadata": {},
     "output_type": "display_data"
    },
    {
     "data": {
      "application/vnd.jupyter.widget-view+json": {
       "model_id": "88206ff4450d4113a96675f83618bea9",
       "version_major": 2,
       "version_minor": 0
      },
      "text/plain": [
       "config.json:   0%|          | 0.00/687 [00:00<?, ?B/s]"
      ]
     },
     "metadata": {},
     "output_type": "display_data"
    },
    {
     "data": {
      "application/vnd.jupyter.widget-view+json": {
       "model_id": "dd53975fa2c44664b9fae20d2bd402d9",
       "version_major": 2,
       "version_minor": 0
      },
      "text/plain": [
       "pytorch_model.bin:   0%|          | 0.00/2.27G [00:00<?, ?B/s]"
      ]
     },
     "metadata": {},
     "output_type": "display_data"
    },
    {
     "data": {
      "application/vnd.jupyter.widget-view+json": {
       "model_id": "6fa1da8f38ac40299f72500ad2e5022b",
       "version_major": 2,
       "version_minor": 0
      },
      "text/plain": [
       "model.safetensors:   0%|          | 0.00/2.27G [00:00<?, ?B/s]"
      ]
     },
     "metadata": {},
     "output_type": "display_data"
    },
    {
     "data": {
      "application/vnd.jupyter.widget-view+json": {
       "model_id": "6410c8023d744535bc520ac9e6126851",
       "version_major": 2,
       "version_minor": 0
      },
      "text/plain": [
       "tokenizer_config.json:   0%|          | 0.00/444 [00:00<?, ?B/s]"
      ]
     },
     "metadata": {},
     "output_type": "display_data"
    },
    {
     "data": {
      "application/vnd.jupyter.widget-view+json": {
       "model_id": "4b742a70964c4a948ba4f10257db52ab",
       "version_major": 2,
       "version_minor": 0
      },
      "text/plain": [
       "sentencepiece.bpe.model:   0%|          | 0.00/5.07M [00:00<?, ?B/s]"
      ]
     },
     "metadata": {},
     "output_type": "display_data"
    },
    {
     "data": {
      "application/vnd.jupyter.widget-view+json": {
       "model_id": "fa8ed00a61d84269bcbb1143faa058b4",
       "version_major": 2,
       "version_minor": 0
      },
      "text/plain": [
       "tokenizer.json:   0%|          | 0.00/17.1M [00:00<?, ?B/s]"
      ]
     },
     "metadata": {},
     "output_type": "display_data"
    },
    {
     "data": {
      "application/vnd.jupyter.widget-view+json": {
       "model_id": "5bda4d2e14c4476a9718c214cb95ab0a",
       "version_major": 2,
       "version_minor": 0
      },
      "text/plain": [
       "special_tokens_map.json:   0%|          | 0.00/964 [00:00<?, ?B/s]"
      ]
     },
     "metadata": {},
     "output_type": "display_data"
    },
    {
     "data": {
      "application/vnd.jupyter.widget-view+json": {
       "model_id": "9afab9367b2043ab8c6eb17af277348c",
       "version_major": 2,
       "version_minor": 0
      },
      "text/plain": [
       "config.json:   0%|          | 0.00/191 [00:00<?, ?B/s]"
      ]
     },
     "metadata": {},
     "output_type": "display_data"
    }
   ],
   "source": [
    "class LocalOllamaLLM(BaseLLM):\n",
    "    api_url : str\n",
    "    def _generate(self, prompt, stop):\n",
    "        response = requests.post(f\"{self.api_url}/api/generate\", json={\"model\": \"llama3.1\", \"prompt\": str(prompt)})\n",
    "        response.raise_for_status()\n",
    "        response_text=''.join([json.loads(line)['response'] for line in response.text.splitlines()])\n",
    "        generations=[]\n",
    "        generations.append([Generation(text=response_text)])\n",
    "        return LLMResult(generations=generations)\n",
    "\n",
    "\n",
    "    def _llm_type(self):\n",
    "        return \"local\"  # Or whatever type is appropriate for your local setup\n",
    "\n",
    "llm = LocalOllamaLLM(api_url=\"http://127.0.0.1:11434\")\n",
    "\n",
    "embedder = HuggingFaceEmbeddings(model_name=\"BAAI/bge-m3\")\n"
   ]
  },
  {
   "cell_type": "code",
   "execution_count": 10,
   "id": "c5c71104-6592-4512-a144-87ac34377c7b",
   "metadata": {},
   "outputs": [
    {
     "name": "stderr",
     "output_type": "stream",
     "text": [
      "Failed to send telemetry event ClientStartEvent: capture() takes 1 positional argument but 3 were given\n",
      "Failed to send telemetry event ClientCreateCollectionEvent: capture() takes 1 positional argument but 3 were given\n"
     ]
    }
   ],
   "source": [
    "vector_store = Chroma(embedding_function=embedder,persist_directory=\"./chroma_db_article\")"
   ]
  },
  {
   "cell_type": "code",
   "execution_count": 11,
   "id": "621e7bca-906c-4c68-848b-4f09f9e88c23",
   "metadata": {},
   "outputs": [
    {
     "data": {
      "text/plain": [
       "HuggingFaceEmbeddings(client=SentenceTransformer(\n",
       "  (0): Transformer({'max_seq_length': 8192, 'do_lower_case': False, 'architecture': 'XLMRobertaModel'})\n",
       "  (1): Pooling({'word_embedding_dimension': 1024, 'pooling_mode_cls_token': True, 'pooling_mode_mean_tokens': False, 'pooling_mode_max_tokens': False, 'pooling_mode_mean_sqrt_len_tokens': False, 'pooling_mode_weightedmean_tokens': False, 'pooling_mode_lasttoken': False, 'include_prompt': True})\n",
       "  (2): Normalize()\n",
       "), model_name='BAAI/bge-m3', cache_folder=None, model_kwargs={}, encode_kwargs={}, multi_process=False, show_progress=False)"
      ]
     },
     "execution_count": 11,
     "metadata": {},
     "output_type": "execute_result"
    }
   ],
   "source": [
    "vector_store.embeddings"
   ]
  },
  {
   "cell_type": "code",
   "execution_count": 12,
   "id": "db5ebf7b-270a-4d4d-9de0-ba8daa562bde",
   "metadata": {
    "scrolled": true
   },
   "outputs": [
    {
     "name": "stdout",
     "output_type": "stream",
     "text": [
      "Get:1 http://security.ubuntu.com/ubuntu noble-security InRelease [126 kB]\n",
      "Get:2 https://developer.download.nvidia.com/compute/cuda/repos/ubuntu2404/x86_64  InRelease [1,581 B]\n",
      "Get:3 http://archive.ubuntu.com/ubuntu noble InRelease [256 kB]                \u001b[0m\u001b[33m\n",
      "Get:4 https://ppa.launchpadcontent.net/git-core/ppa/ubuntu noble InRelease [24.3 kB]\n",
      "Get:5 http://security.ubuntu.com/ubuntu noble-security/main amd64 Packages [1,326 kB]\n",
      "Get:6 http://archive.ubuntu.com/ubuntu noble-updates InRelease [126 kB]\n",
      "Ign:7 https://ppa.launchpadcontent.net/ubuntugis/ppa/ubuntu noble InRelease    \u001b[0m\u001b[33m\n",
      "Get:8 http://archive.ubuntu.com/ubuntu noble-backports InRelease [126 kB]\n",
      "Err:9 https://ppa.launchpadcontent.net/ubuntugis/ppa/ubuntu noble Release      \u001b[0m\n",
      "  404  Not Found [IP: 185.125.190.80 443]\n",
      "Get:10 http://security.ubuntu.com/ubuntu noble-security/multiverse amd64 Packages [23.0 kB]\n",
      "Get:11 http://security.ubuntu.com/ubuntu noble-security/universe amd64 Packages [1,134 kB]\n",
      "Get:12 https://developer.download.nvidia.com/compute/cuda/repos/ubuntu2404/x86_64  Packages [809 kB]\n",
      "Get:13 http://security.ubuntu.com/ubuntu noble-security/restricted amd64 Packages [1,975 kB]\n",
      "Get:14 http://archive.ubuntu.com/ubuntu noble/main amd64 Packages [1,808 kB]   \u001b[0m\u001b[33m\n",
      "Get:15 http://archive.ubuntu.com/ubuntu noble/multiverse amd64 Packages [331 kB]m0m\u001b[33m\n",
      "Get:16 https://apt.postgresql.org/pub/repos/apt noble-pgdg InRelease [107 kB]  \u001b[0m\u001b[33m\n",
      "Get:17 https://ppa.launchpadcontent.net/git-core/ppa/ubuntu noble/main amd64 Packages [2,972 B]\n",
      "Get:18 http://archive.ubuntu.com/ubuntu noble/restricted amd64 Packages [117 kB][0m\u001b[33m\n",
      "Get:19 http://archive.ubuntu.com/ubuntu noble/universe amd64 Packages [19.3 MB]\u001b[0m\u001b[33m\n",
      "Get:20 https://apt.postgresql.org/pub/repos/apt noble-pgdg/main amd64 Packages [543 kB]m\n",
      "Get:21 http://archive.ubuntu.com/ubuntu noble-updates/multiverse amd64 Packages [45.2 kB]\n",
      "Get:22 http://archive.ubuntu.com/ubuntu noble-updates/restricted amd64 Packages [2,086 kB]\n",
      "Get:23 http://archive.ubuntu.com/ubuntu noble-updates/main amd64 Packages [1,665 kB]\n",
      "Get:24 http://archive.ubuntu.com/ubuntu noble-updates/universe amd64 Packages [1,454 kB]\n",
      "Get:25 http://archive.ubuntu.com/ubuntu noble-backports/universe amd64 Packages [33.0 kB]\n",
      "Get:26 http://archive.ubuntu.com/ubuntu noble-backports/main amd64 Packages [48.8 kB]\n",
      "Reading package lists... Done0m\u001b[33m                         \u001b[0m\u001b[33m\n",
      "\u001b[1;31mE: \u001b[0mThe repository 'https://ppa.launchpadcontent.net/ubuntugis/ppa/ubuntu noble Release' does not have a Release file.\u001b[0m\n",
      "\u001b[33mN: \u001b[0mUpdating from such a repository can't be done securely, and is therefore disabled by default.\u001b[0m\n",
      "\u001b[33mN: \u001b[0mSee apt-secure(8) manpage for repository creation and user configuration details.\u001b[0m\n",
      "\u001b[1;33mW: \u001b[0mhttps://developer.download.nvidia.com/compute/cuda/repos/ubuntu2404/x86_64/InRelease: Key is stored in legacy trusted.gpg keyring (/etc/apt/trusted.gpg), see the DEPRECATION section in apt-key(8) for details.\u001b[0m\n",
      "\u001b[1;33mW: \u001b[0mhttps://apt.postgresql.org/pub/repos/apt/dists/noble-pgdg/InRelease: Key is stored in legacy trusted.gpg keyring (/etc/apt/trusted.gpg), see the DEPRECATION section in apt-key(8) for details.\u001b[0m\n"
     ]
    }
   ],
   "source": [
    "!sudo apt update && sudo apt install --yes lshw"
   ]
  },
  {
   "cell_type": "code",
   "execution_count": 13,
   "id": "9d8ff65c-e68a-4fc5-9f9d-9e52bb412c68",
   "metadata": {},
   "outputs": [
    {
     "name": "stdout",
     "output_type": "stream",
     "text": [
      ">>> Installing ollama to /usr/local\n",
      ">>> Downloading Linux amd64 bundle\n",
      "######################################################################### 100.0%\n",
      ">>> Creating ollama user...\n",
      ">>> Adding ollama user to video group...\n",
      ">>> Adding current user to ollama group...\n",
      ">>> Creating ollama systemd service...\n",
      "\u001b[1m\u001b[31mWARNING:\u001b[m systemd is not running\n",
      "\u001b[1m\u001b[31mWARNING:\u001b[m Unable to detect NVIDIA/AMD GPU. Install lspci or lshw to automatically detect and install GPU dependencies.\n",
      ">>> The Ollama API is now available at 127.0.0.1:11434.\n",
      ">>> Install complete. Run \"ollama\" from the command line.\n"
     ]
    }
   ],
   "source": [
    "!curl -fsSL https://ollama.com/install.sh | sh"
   ]
  },
  {
   "cell_type": "code",
   "execution_count": 29,
   "id": "0bd73789-a3e2-459d-aac1-2d9e3394589e",
   "metadata": {},
   "outputs": [],
   "source": [
    "def create_question_answer_chain(system_prompt) :\n",
    "    prompt = ChatPromptTemplate.from_messages(\n",
    "        [\n",
    "            (\"system\", system_prompt),\n",
    "            (\"human\", \"{input}\"),\n",
    "        ]\n",
    "    )\n",
    "    question_answer_chain= create_stuff_documents_chain(llm, prompt)\n",
    "    return question_answer_chain\n",
    "\n",
    "\n",
    "def search_and_invoke_llm(vector_store, numdossier, query, question_answer_chain, k=5):\n",
    "    if k == 0:\n",
    "        print(f\"Échec de la recherche pour le dossier {numdossier}\")\n",
    "        return None\n",
    "\n",
    "    try:\n",
    "        retriever = vector_store.as_retriever(\n",
    "            search_kwargs={\n",
    "                \"k\": k,\n",
    "                \"filter\": {\"numdossier\": str(numdossier)}\n",
    "            }\n",
    "        )\n",
    "        \n",
    "        retrieved_docs = retriever.invoke(query)\n",
    "        chain = create_retrieval_chain(retriever, question_answer_chain)\n",
    "        result = chain.invoke({\"input\": query})\n",
    "\n",
    "        return {\n",
    "            \"answer\": result.get(\"answer\", \"\"),\n",
    "            \"context\": [doc.page_content for doc in retrieved_docs]\n",
    "        }\n",
    "\n",
    "    except Exception as e:\n",
    "        print(f\"Erreur avec k={k}, tentative avec k={k-1} pour dossier {numdossier} : {e}\")\n",
    "        return search_and_invoke_llm(vector_store, numdossier, query, question_answer_chain, k=k-1)\n",
    "        \n",
    "def run_results(df, results_path, system_prompt, Q, k): \n",
    "    Path(results_path).mkdir(exist_ok=True)\n",
    "    already_done = {el.split(\"/\")[1].split(\".\")[0] for el in glob(f\"{results_path}/*.json\")}\n",
    "    question_answer_chain = create_question_answer_chain(system_prompt)\n",
    "    \n",
    "    for index, row in df.iterrows():\n",
    "        if str(index) not in already_done:\n",
    "            numdossier = str(index)\n",
    "            result_json = {\n",
    "                \"numdossier\": numdossier,\n",
    "                \"responses\": {},\n",
    "                \"context\": {}\n",
    "            }\n",
    "            result = search_and_invoke_llm(vector_store, numdossier, Q, question_answer_chain, k)\n",
    "\n",
    "            if result:\n",
    "                result_json[\"responses\"][Q] = result.get(\"answer\", \"\")\n",
    "                result_json[\"context\"][Q] = result.get(\"context\", [])\n",
    "            else:\n",
    "                result_json[\"responses\"][Q] = None\n",
    "                result_json[\"context\"][Q] = []\n",
    "\n",
    "            with open(f\"{results_path}/{numdossier}.json\", \"w\", encoding=\"utf-8\") as f:\n",
    "                json.dump(result_json, f, indent=2, ensure_ascii=False)\n"
   ]
  },
  {
   "cell_type": "code",
   "execution_count": 33,
   "id": "42099c27-5ba6-4c28-8478-e68ba285bbec",
   "metadata": {},
   "outputs": [],
   "source": [
    "def save_contingent_as_csv(results_path, csv_path) :\n",
    "    json_folder = results_path\n",
    "    rows = []\n",
    "    \n",
    "    # regex\n",
    "    contingent_pattern = re.compile(r'\"variable\"\\s*:\\s*(\\d+|null)') #attention ici il faut forcement adapter suivanrt la sortie demandée dans prmpt \n",
    "    \n",
    "    for filepath in glob(f\"{json_folder}/*.json\"):\n",
    "        with open(filepath, \"r\", encoding=\"utf-8\") as f:\n",
    "            data = json.load(f)\n",
    "            num_dossier = data.get(\"numdossier\")\n",
    "    \n",
    "            # Récupération de la réponse brute\n",
    "            response_text = data[\"responses\"].get(\n",
    "                \"À combien est porté le contingent d’heures supplémentaires ? \"\n",
    "            )\n",
    "    \n",
    "            contingent = None  # valeur par défaut\n",
    "    \n",
    "            if response_text:\n",
    "                response_text = response_text.strip(\"` \\n\")\n",
    "                match = contingent_pattern.search(response_text)\n",
    "                if match:\n",
    "                    value = match.group(1)\n",
    "                    contingent = int(value) if value.isdigit() else None\n",
    "    \n",
    "            rows.append({\n",
    "                \"numdossier\": num_dossier,\n",
    "                \"contingent_annuel\": contingent\n",
    "            })\n",
    "    \n",
    "    # Création et export CSV\n",
    "    df = pd.DataFrame(rows)\n",
    "    df.to_csv(csv_path, index=False)\n"
   ]
  },
  {
   "cell_type": "code",
   "execution_count": 26,
   "id": "e5946d54-8b3d-4045-b523-7be889c5514f",
   "metadata": {},
   "outputs": [],
   "source": [
    "def run_all_pipeline(df, results_path, system_prompt, Q, k,csv_path): \n",
    "    run_results(df, results_path, system_prompt, Q, k)\n",
    "    save_contingent_as_csv(results_path, csv_path)"
   ]
  },
  {
   "cell_type": "markdown",
   "id": "dfb2b6af-3bb1-466b-8605-b9f3ff133de1",
   "metadata": {},
   "source": [
    "# Visualiser les résultats "
   ]
  },
  {
   "cell_type": "code",
   "execution_count": 17,
   "id": "caea3224-9b06-486c-ac56-a68073ee58ee",
   "metadata": {},
   "outputs": [],
   "source": [
    "df = pd.read_parquet(\"data/echantillon_1000_hs_2024_TOC.parquet\")\n",
    "df = df.rename(columns={\"numdossier_new\":\"numdossier\"})\n",
    "df= df.set_index(\"numdossier\")"
   ]
  },
  {
   "cell_type": "code",
   "execution_count": 18,
   "id": "20404767-1c4a-4c17-8e3b-925912ec395b",
   "metadata": {},
   "outputs": [],
   "source": [
    "df_test = df.iloc[1:10,:]"
   ]
  },
  {
   "cell_type": "code",
   "execution_count": 19,
   "id": "cf19c39c-1cc7-45c5-9666-65654129d608",
   "metadata": {},
   "outputs": [
    {
     "data": {
      "text/html": [
       "<div>\n",
       "<style scoped>\n",
       "    .dataframe tbody tr th:only-of-type {\n",
       "        vertical-align: middle;\n",
       "    }\n",
       "\n",
       "    .dataframe tbody tr th {\n",
       "        vertical-align: top;\n",
       "    }\n",
       "\n",
       "    .dataframe thead th {\n",
       "        text-align: right;\n",
       "    }\n",
       "</style>\n",
       "<table border=\"1\" class=\"dataframe\">\n",
       "  <thead>\n",
       "    <tr style=\"text-align: right;\">\n",
       "      <th></th>\n",
       "      <th>accorddocx</th>\n",
       "      <th>txt_trim_list</th>\n",
       "      <th>extracted_summary</th>\n",
       "    </tr>\n",
       "    <tr>\n",
       "      <th>numdossier</th>\n",
       "      <th></th>\n",
       "      <th></th>\n",
       "      <th></th>\n",
       "    </tr>\n",
       "  </thead>\n",
       "  <tbody>\n",
       "    <tr>\n",
       "      <th>T03324062903</th>\n",
       "      <td>\\t\\t\\n\\t\\nACCORD D’ENTREPRISE RELATIF A L’ORGA...</td>\n",
       "      <td>[\\t\\t, \\t, ACCORD D’ENTREPRISE RELATIF A L’ORG...</td>\n",
       "      <td>[ACCORD D’ENTREPRISE RELATIF A L’ORGANISATION ...</td>\n",
       "    </tr>\n",
       "    <tr>\n",
       "      <th>T07424060533</th>\n",
       "      <td>AVENANT N°2 DE L’ACCORD COLLECTIF D’ENTREPRISE...</td>\n",
       "      <td>[AVENANT N°2 DE L’ACCORD COLLECTIF D’ENTREPRIS...</td>\n",
       "      <td>[AVENANT N°2 DE L’ACCORD COLLECTIF D’ENTREPRIS...</td>\n",
       "    </tr>\n",
       "    <tr>\n",
       "      <th>T03224060321</th>\n",
       "      <td>\\n\\nACCORD D’ENTREPRISE SUR LES HEURES SUPPLEM...</td>\n",
       "      <td>[, , ACCORD D’ENTREPRISE SUR LES HEURES SUPPLE...</td>\n",
       "      <td>[ACCORD D’ENTREPRISE SUR LES HEURES SUPPLEMENT...</td>\n",
       "    </tr>\n",
       "    <tr>\n",
       "      <th>T06724061948</th>\n",
       "      <td>\\naccord d’entreprise \\nrelatif au contingent ...</td>\n",
       "      <td>[, accord d’entreprise , relatif au contingent...</td>\n",
       "      <td>[accord d’entreprise , relatif au contingent d...</td>\n",
       "    </tr>\n",
       "    <tr>\n",
       "      <th>T03024060929</th>\n",
       "      <td>\\nAccord d’entreprise sur le contingent d’heur...</td>\n",
       "      <td>[, Accord d’entreprise sur le contingent d’heu...</td>\n",
       "      <td>[Accord d’entreprise sur le contingent d’heure...</td>\n",
       "    </tr>\n",
       "    <tr>\n",
       "      <th>T00624061495</th>\n",
       "      <td>\\nACCORD D’ENTREPRISE RELATIF A LA DUREE DU TE...</td>\n",
       "      <td>[, ACCORD D’ENTREPRISE RELATIF A LA DUREE DU T...</td>\n",
       "      <td>[ACCORD D’ENTREPRISE RELATIF A LA DUREE DU TEM...</td>\n",
       "    </tr>\n",
       "    <tr>\n",
       "      <th>T06924065628</th>\n",
       "      <td>\\n\\n\\n\\nACCORD D’ENTREPRISE\\nREPOS COMPENSATEU...</td>\n",
       "      <td>[, , , , ACCORD D’ENTREPRISE, REPOS COMPENSATE...</td>\n",
       "      <td>[ACCORD D’ENTREPRISE, REPOS COMPENSATEUR, PREA...</td>\n",
       "    </tr>\n",
       "    <tr>\n",
       "      <th>T07424061214</th>\n",
       "      <td>Accord d’entreprise relatif aux heures supplém...</td>\n",
       "      <td>[Accord d’entreprise relatif aux heures supplé...</td>\n",
       "      <td>[Accord d’entreprise relatif aux heures supplé...</td>\n",
       "    </tr>\n",
       "    <tr>\n",
       "      <th>T06924062286</th>\n",
       "      <td>\\nAccord d'entreprise\\nrelatif au contingent a...</td>\n",
       "      <td>[, Accord d'entreprise, relatif au contingent ...</td>\n",
       "      <td>[Accord d'entreprise, relatif au contingent an...</td>\n",
       "    </tr>\n",
       "  </tbody>\n",
       "</table>\n",
       "</div>"
      ],
      "text/plain": [
       "                                                     accorddocx  \\\n",
       "numdossier                                                        \n",
       "T03324062903  \\t\\t\\n\\t\\nACCORD D’ENTREPRISE RELATIF A L’ORGA...   \n",
       "T07424060533  AVENANT N°2 DE L’ACCORD COLLECTIF D’ENTREPRISE...   \n",
       "T03224060321  \\n\\nACCORD D’ENTREPRISE SUR LES HEURES SUPPLEM...   \n",
       "T06724061948  \\naccord d’entreprise \\nrelatif au contingent ...   \n",
       "T03024060929  \\nAccord d’entreprise sur le contingent d’heur...   \n",
       "T00624061495  \\nACCORD D’ENTREPRISE RELATIF A LA DUREE DU TE...   \n",
       "T06924065628  \\n\\n\\n\\nACCORD D’ENTREPRISE\\nREPOS COMPENSATEU...   \n",
       "T07424061214  Accord d’entreprise relatif aux heures supplém...   \n",
       "T06924062286  \\nAccord d'entreprise\\nrelatif au contingent a...   \n",
       "\n",
       "                                                  txt_trim_list  \\\n",
       "numdossier                                                        \n",
       "T03324062903  [\\t\\t, \\t, ACCORD D’ENTREPRISE RELATIF A L’ORG...   \n",
       "T07424060533  [AVENANT N°2 DE L’ACCORD COLLECTIF D’ENTREPRIS...   \n",
       "T03224060321  [, , ACCORD D’ENTREPRISE SUR LES HEURES SUPPLE...   \n",
       "T06724061948  [, accord d’entreprise , relatif au contingent...   \n",
       "T03024060929  [, Accord d’entreprise sur le contingent d’heu...   \n",
       "T00624061495  [, ACCORD D’ENTREPRISE RELATIF A LA DUREE DU T...   \n",
       "T06924065628  [, , , , ACCORD D’ENTREPRISE, REPOS COMPENSATE...   \n",
       "T07424061214  [Accord d’entreprise relatif aux heures supplé...   \n",
       "T06924062286  [, Accord d'entreprise, relatif au contingent ...   \n",
       "\n",
       "                                              extracted_summary  \n",
       "numdossier                                                       \n",
       "T03324062903  [ACCORD D’ENTREPRISE RELATIF A L’ORGANISATION ...  \n",
       "T07424060533  [AVENANT N°2 DE L’ACCORD COLLECTIF D’ENTREPRIS...  \n",
       "T03224060321  [ACCORD D’ENTREPRISE SUR LES HEURES SUPPLEMENT...  \n",
       "T06724061948  [accord d’entreprise , relatif au contingent d...  \n",
       "T03024060929  [Accord d’entreprise sur le contingent d’heure...  \n",
       "T00624061495  [ACCORD D’ENTREPRISE RELATIF A LA DUREE DU TEM...  \n",
       "T06924065628  [ACCORD D’ENTREPRISE, REPOS COMPENSATEUR, PREA...  \n",
       "T07424061214  [Accord d’entreprise relatif aux heures supplé...  \n",
       "T06924062286  [Accord d'entreprise, relatif au contingent an...  "
      ]
     },
     "execution_count": 19,
     "metadata": {},
     "output_type": "execute_result"
    }
   ],
   "source": [
    "df_test"
   ]
  },
  {
   "cell_type": "code",
   "execution_count": 20,
   "id": "eb53b67b-f547-4f55-abbd-c646b607a7d3",
   "metadata": {},
   "outputs": [],
   "source": [
    "system_prompt = (\n",
    "    \"Tu es un assistant intelligent chargé d'extraire des informations précises à partir d'un texte.\\n\\n\"\n",
    "    \"Ta tâche est de répondre à la question suivante : « À combien est porté le contingent d’heures supplémentaires ? »\\n\\n\"\n",
    "    \"Tu dois répondre uniquement par un JSON au format strict suivant :\\n\"\n",
    "    \"{{\\n\"\n",
    "    '  \"variable\": <valeur numérique entière ou null>\\n'\n",
    "    \"}}\\n\\n\"\n",
    "    \"Ne produis aucun commentaire, explication ou texte hors du JSON. Ne formate pas différemment.\\n\\n\"\n",
    "    \"Définitions utiles:\\n\"\n",
    "    \"- La *durée annuelle de travail de référence* est le nombre total d’heures de travail prévues sur une année pour un salarié (généralement autour de 1607 heures).\\n\"\n",
    "    \"- Le *contingent annuel d’heures supplémentaires* est le nombre total d’heures supplémentaires autorisées pour un salarié sur une année .\\n\\n\"\n",
    "    \"Règles STRICTES :\\n\"\n",
    "    \"- Tu dois uniquement extraire une valeur **clairement mentionnée** dans le contexte.\\n\"\n",
    "    \"- N'invente jamais de valeur : si aucune valeur explicite n’est donnée dans le contexte, réponds avec `null`.\\n\"\n",
    "    \"- Ne fais jamais d’estimation ou d’interprétation basée sur des hypothèses ou du bon sens.\\n\"\n",
    "    \"- Si une valeur supérieure à 1000 est mentionnée, il est très probable qu’il s’agisse de la *durée annuelle de travail* et non du *contingent*. Dans ce cas, réponds `null` pour éviter toute confusion.\\n\"\n",
    "    \"- Ne confonds **jamais** la durée annuelle de travail et le contingent annuel d’heures supplémentaires.\\n\"\n",
    "    \"- Ignorer toute information concernant le CET.\\n\\n\"       \n",
    "    \"Contexte : {context}\\n\"\n",
    "    \"Si aucun contexte n’est fourni, réponds avec `null`.\\n\"\n",
    "\n",
    ")\n"
   ]
  },
  {
   "cell_type": "code",
   "execution_count": 21,
   "id": "46275008-976d-402a-b7b2-8d96f26a5376",
   "metadata": {},
   "outputs": [],
   "source": [
    "Q1= \"À combien est porté le contingent d’heures supplémentaires ? \""
   ]
  },
  {
   "cell_type": "code",
   "execution_count": 34,
   "id": "c437e98a-d782-4914-91db-ff4265e97eca",
   "metadata": {
    "scrolled": true
   },
   "outputs": [],
   "source": [
    "run_all_pipeline(df,\"results_llama3.1_k=2\", system_prompt, Q1,2,\"contingent_annuel.csv\")"
   ]
  },
  {
   "cell_type": "code",
   "execution_count": 64,
   "id": "87c80b7f-ff91-4d61-bb2d-f18c6cc958e9",
   "metadata": {},
   "outputs": [],
   "source": [
    "results_llama3_1 = pd.read_csv(\"contingent_annuel.csv\")\n",
    "results_llama3_1= results_llama3_1.rename(columns={\"contingent_annuel\":\"contingent\"})\n",
    "true_results= pd.read_csv(\"data/echantillon_eval_hs_2024_contingent_annote.csv\")\n",
    "true_results = true_results.rename(columns={\"numdossier_new\":\"numdossier\"})"
   ]
  },
  {
   "cell_type": "code",
   "execution_count": 65,
   "id": "8366a626-2402-45d0-bd19-b8210c9ffc3a",
   "metadata": {},
   "outputs": [
    {
     "data": {
      "text/html": [
       "<div>\n",
       "<style scoped>\n",
       "    .dataframe tbody tr th:only-of-type {\n",
       "        vertical-align: middle;\n",
       "    }\n",
       "\n",
       "    .dataframe tbody tr th {\n",
       "        vertical-align: top;\n",
       "    }\n",
       "\n",
       "    .dataframe thead th {\n",
       "        text-align: right;\n",
       "    }\n",
       "</style>\n",
       "<table border=\"1\" class=\"dataframe\">\n",
       "  <thead>\n",
       "    <tr style=\"text-align: right;\">\n",
       "      <th></th>\n",
       "      <th>numdossier</th>\n",
       "      <th>contingent</th>\n",
       "    </tr>\n",
       "  </thead>\n",
       "  <tbody>\n",
       "    <tr>\n",
       "      <th>0</th>\n",
       "      <td>T03324061585</td>\n",
       "      <td>329.0</td>\n",
       "    </tr>\n",
       "    <tr>\n",
       "      <th>1</th>\n",
       "      <td>T03024060799</td>\n",
       "      <td>NaN</td>\n",
       "    </tr>\n",
       "    <tr>\n",
       "      <th>2</th>\n",
       "      <td>T08524061462</td>\n",
       "      <td>200.0</td>\n",
       "    </tr>\n",
       "    <tr>\n",
       "      <th>3</th>\n",
       "      <td>T02924060761</td>\n",
       "      <td>220.0</td>\n",
       "    </tr>\n",
       "    <tr>\n",
       "      <th>4</th>\n",
       "      <td>T04924061047</td>\n",
       "      <td>500.0</td>\n",
       "    </tr>\n",
       "    <tr>\n",
       "      <th>...</th>\n",
       "      <td>...</td>\n",
       "      <td>...</td>\n",
       "    </tr>\n",
       "    <tr>\n",
       "      <th>995</th>\n",
       "      <td>T02624061216</td>\n",
       "      <td>NaN</td>\n",
       "    </tr>\n",
       "    <tr>\n",
       "      <th>996</th>\n",
       "      <td>T07524066935</td>\n",
       "      <td>NaN</td>\n",
       "    </tr>\n",
       "    <tr>\n",
       "      <th>997</th>\n",
       "      <td>T03424060904</td>\n",
       "      <td>NaN</td>\n",
       "    </tr>\n",
       "    <tr>\n",
       "      <th>998</th>\n",
       "      <td>T06424060577</td>\n",
       "      <td>NaN</td>\n",
       "    </tr>\n",
       "    <tr>\n",
       "      <th>999</th>\n",
       "      <td>T06724061004</td>\n",
       "      <td>220.0</td>\n",
       "    </tr>\n",
       "  </tbody>\n",
       "</table>\n",
       "<p>1000 rows × 2 columns</p>\n",
       "</div>"
      ],
      "text/plain": [
       "       numdossier  contingent\n",
       "0    T03324061585       329.0\n",
       "1    T03024060799         NaN\n",
       "2    T08524061462       200.0\n",
       "3    T02924060761       220.0\n",
       "4    T04924061047       500.0\n",
       "..            ...         ...\n",
       "995  T02624061216         NaN\n",
       "996  T07524066935         NaN\n",
       "997  T03424060904         NaN\n",
       "998  T06424060577         NaN\n",
       "999  T06724061004       220.0\n",
       "\n",
       "[1000 rows x 2 columns]"
      ]
     },
     "execution_count": 65,
     "metadata": {},
     "output_type": "execute_result"
    }
   ],
   "source": [
    "results_llama3_1"
   ]
  },
  {
   "cell_type": "code",
   "execution_count": 67,
   "id": "0804744b-be63-47be-9b64-98257028f16d",
   "metadata": {},
   "outputs": [
    {
     "data": {
      "text/html": [
       "<div>\n",
       "<style scoped>\n",
       "    .dataframe tbody tr th:only-of-type {\n",
       "        vertical-align: middle;\n",
       "    }\n",
       "\n",
       "    .dataframe tbody tr th {\n",
       "        vertical-align: top;\n",
       "    }\n",
       "\n",
       "    .dataframe thead th {\n",
       "        text-align: right;\n",
       "    }\n",
       "</style>\n",
       "<table border=\"1\" class=\"dataframe\">\n",
       "  <thead>\n",
       "    <tr style=\"text-align: right;\">\n",
       "      <th></th>\n",
       "      <th>numdossier</th>\n",
       "      <th>contingent</th>\n",
       "    </tr>\n",
       "  </thead>\n",
       "  <tbody>\n",
       "    <tr>\n",
       "      <th>0</th>\n",
       "      <td>T00724060165</td>\n",
       "      <td>NaN</td>\n",
       "    </tr>\n",
       "    <tr>\n",
       "      <th>1</th>\n",
       "      <td>T03324062903</td>\n",
       "      <td>400.0</td>\n",
       "    </tr>\n",
       "    <tr>\n",
       "      <th>2</th>\n",
       "      <td>T07424060533</td>\n",
       "      <td>NaN</td>\n",
       "    </tr>\n",
       "    <tr>\n",
       "      <th>3</th>\n",
       "      <td>T03224060321</td>\n",
       "      <td>NaN</td>\n",
       "    </tr>\n",
       "    <tr>\n",
       "      <th>4</th>\n",
       "      <td>T06724061948</td>\n",
       "      <td>360.0</td>\n",
       "    </tr>\n",
       "    <tr>\n",
       "      <th>...</th>\n",
       "      <td>...</td>\n",
       "      <td>...</td>\n",
       "    </tr>\n",
       "    <tr>\n",
       "      <th>95</th>\n",
       "      <td>T09224067019</td>\n",
       "      <td>NaN</td>\n",
       "    </tr>\n",
       "    <tr>\n",
       "      <th>96</th>\n",
       "      <td>T09224068199</td>\n",
       "      <td>NaN</td>\n",
       "    </tr>\n",
       "    <tr>\n",
       "      <th>97</th>\n",
       "      <td>T04524060557</td>\n",
       "      <td>220.0</td>\n",
       "    </tr>\n",
       "    <tr>\n",
       "      <th>98</th>\n",
       "      <td>T59L24063310</td>\n",
       "      <td>NaN</td>\n",
       "    </tr>\n",
       "    <tr>\n",
       "      <th>99</th>\n",
       "      <td>T09224067998</td>\n",
       "      <td>330.0</td>\n",
       "    </tr>\n",
       "  </tbody>\n",
       "</table>\n",
       "<p>100 rows × 2 columns</p>\n",
       "</div>"
      ],
      "text/plain": [
       "      numdossier  contingent\n",
       "0   T00724060165         NaN\n",
       "1   T03324062903       400.0\n",
       "2   T07424060533         NaN\n",
       "3   T03224060321         NaN\n",
       "4   T06724061948       360.0\n",
       "..           ...         ...\n",
       "95  T09224067019         NaN\n",
       "96  T09224068199         NaN\n",
       "97  T04524060557       220.0\n",
       "98  T59L24063310         NaN\n",
       "99  T09224067998       330.0\n",
       "\n",
       "[100 rows x 2 columns]"
      ]
     },
     "execution_count": 67,
     "metadata": {},
     "output_type": "execute_result"
    }
   ],
   "source": [
    "true_results"
   ]
  },
  {
   "cell_type": "code",
   "execution_count": 68,
   "id": "9bfacc72-a742-4e61-9bc1-22d08b8df525",
   "metadata": {},
   "outputs": [],
   "source": [
    "comparaison_df = pd.merge(\n",
    "    results_llama3_1,\n",
    "    true_results,\n",
    "    on=\"numdossier\",\n",
    "    how=\"inner\",\n",
    "    suffixes=('_llm', '_annot')  \n",
    ")\n",
    "comparaison_df[\"contingent_llm\"] = comparaison_df[\"contingent_llm\"].fillna(\"\")\n",
    "comparaison_df[\"contingent_annot\"] = comparaison_df[\"contingent_annot\"].fillna(\"\")"
   ]
  },
  {
   "cell_type": "code",
   "execution_count": 69,
   "id": "29682bb6-b84c-4729-949c-6843858be3b5",
   "metadata": {},
   "outputs": [
    {
     "data": {
      "text/html": [
       "<div>\n",
       "<style scoped>\n",
       "    .dataframe tbody tr th:only-of-type {\n",
       "        vertical-align: middle;\n",
       "    }\n",
       "\n",
       "    .dataframe tbody tr th {\n",
       "        vertical-align: top;\n",
       "    }\n",
       "\n",
       "    .dataframe thead th {\n",
       "        text-align: right;\n",
       "    }\n",
       "</style>\n",
       "<table border=\"1\" class=\"dataframe\">\n",
       "  <thead>\n",
       "    <tr style=\"text-align: right;\">\n",
       "      <th></th>\n",
       "      <th>numdossier</th>\n",
       "      <th>contingent_llm</th>\n",
       "      <th>contingent_annot</th>\n",
       "    </tr>\n",
       "  </thead>\n",
       "  <tbody>\n",
       "    <tr>\n",
       "      <th>0</th>\n",
       "      <td>T03824062676</td>\n",
       "      <td>423.0</td>\n",
       "      <td>423.0</td>\n",
       "    </tr>\n",
       "    <tr>\n",
       "      <th>1</th>\n",
       "      <td>T05624061590</td>\n",
       "      <td>220.0</td>\n",
       "      <td>220.0</td>\n",
       "    </tr>\n",
       "    <tr>\n",
       "      <th>2</th>\n",
       "      <td>T06424061149</td>\n",
       "      <td>220.0</td>\n",
       "      <td>220.0</td>\n",
       "    </tr>\n",
       "    <tr>\n",
       "      <th>3</th>\n",
       "      <td>T03124062604</td>\n",
       "      <td>360.0</td>\n",
       "      <td>360.0</td>\n",
       "    </tr>\n",
       "    <tr>\n",
       "      <th>4</th>\n",
       "      <td>T00124060343</td>\n",
       "      <td></td>\n",
       "      <td></td>\n",
       "    </tr>\n",
       "    <tr>\n",
       "      <th>...</th>\n",
       "      <td>...</td>\n",
       "      <td>...</td>\n",
       "      <td>...</td>\n",
       "    </tr>\n",
       "    <tr>\n",
       "      <th>95</th>\n",
       "      <td>T05724060864</td>\n",
       "      <td>180.0</td>\n",
       "      <td>180.0</td>\n",
       "    </tr>\n",
       "    <tr>\n",
       "      <th>96</th>\n",
       "      <td>T07424061503</td>\n",
       "      <td>300.0</td>\n",
       "      <td>300.0</td>\n",
       "    </tr>\n",
       "    <tr>\n",
       "      <th>97</th>\n",
       "      <td>T05224060258</td>\n",
       "      <td>425.0</td>\n",
       "      <td>425.0</td>\n",
       "    </tr>\n",
       "    <tr>\n",
       "      <th>98</th>\n",
       "      <td>T05324060767</td>\n",
       "      <td>360.0</td>\n",
       "      <td>360.0</td>\n",
       "    </tr>\n",
       "    <tr>\n",
       "      <th>99</th>\n",
       "      <td>T06724061004</td>\n",
       "      <td>220.0</td>\n",
       "      <td>220.0</td>\n",
       "    </tr>\n",
       "  </tbody>\n",
       "</table>\n",
       "<p>95 rows × 3 columns</p>\n",
       "</div>"
      ],
      "text/plain": [
       "      numdossier contingent_llm contingent_annot\n",
       "0   T03824062676          423.0            423.0\n",
       "1   T05624061590          220.0            220.0\n",
       "2   T06424061149          220.0            220.0\n",
       "3   T03124062604          360.0            360.0\n",
       "4   T00124060343                                \n",
       "..           ...            ...              ...\n",
       "95  T05724060864          180.0            180.0\n",
       "96  T07424061503          300.0            300.0\n",
       "97  T05224060258          425.0            425.0\n",
       "98  T05324060767          360.0            360.0\n",
       "99  T06724061004          220.0            220.0\n",
       "\n",
       "[95 rows x 3 columns]"
      ]
     },
     "execution_count": 69,
     "metadata": {},
     "output_type": "execute_result"
    }
   ],
   "source": [
    "comparaison_df[comparaison_df[\"contingent_llm\"] == comparaison_df[\"contingent_annot\"]]"
   ]
  },
  {
   "cell_type": "code",
   "execution_count": 70,
   "id": "f2c89503-685c-4111-be99-c843d4d083b1",
   "metadata": {},
   "outputs": [
    {
     "data": {
      "text/html": [
       "<div>\n",
       "<style scoped>\n",
       "    .dataframe tbody tr th:only-of-type {\n",
       "        vertical-align: middle;\n",
       "    }\n",
       "\n",
       "    .dataframe tbody tr th {\n",
       "        vertical-align: top;\n",
       "    }\n",
       "\n",
       "    .dataframe thead th {\n",
       "        text-align: right;\n",
       "    }\n",
       "</style>\n",
       "<table border=\"1\" class=\"dataframe\">\n",
       "  <thead>\n",
       "    <tr style=\"text-align: right;\">\n",
       "      <th></th>\n",
       "      <th>numdossier</th>\n",
       "      <th>contingent_llm</th>\n",
       "      <th>contingent_annot</th>\n",
       "    </tr>\n",
       "  </thead>\n",
       "  <tbody>\n",
       "    <tr>\n",
       "      <th>7</th>\n",
       "      <td>T09424060886</td>\n",
       "      <td></td>\n",
       "      <td>250.0</td>\n",
       "    </tr>\n",
       "    <tr>\n",
       "      <th>35</th>\n",
       "      <td>T02524061095</td>\n",
       "      <td>72.0</td>\n",
       "      <td></td>\n",
       "    </tr>\n",
       "    <tr>\n",
       "      <th>45</th>\n",
       "      <td>T07524067789</td>\n",
       "      <td></td>\n",
       "      <td>100.0</td>\n",
       "    </tr>\n",
       "    <tr>\n",
       "      <th>68</th>\n",
       "      <td>T03324061515</td>\n",
       "      <td>400.0</td>\n",
       "      <td>500.0</td>\n",
       "    </tr>\n",
       "    <tr>\n",
       "      <th>71</th>\n",
       "      <td>T04524061125</td>\n",
       "      <td>420.0</td>\n",
       "      <td></td>\n",
       "    </tr>\n",
       "  </tbody>\n",
       "</table>\n",
       "</div>"
      ],
      "text/plain": [
       "      numdossier contingent_llm contingent_annot\n",
       "7   T09424060886                           250.0\n",
       "35  T02524061095           72.0                 \n",
       "45  T07524067789                           100.0\n",
       "68  T03324061515          400.0            500.0\n",
       "71  T04524061125          420.0                 "
      ]
     },
     "execution_count": 70,
     "metadata": {},
     "output_type": "execute_result"
    }
   ],
   "source": [
    "comparaison_df[comparaison_df[\"contingent_llm\"] != comparaison_df[\"contingent_annot\"]]"
   ]
  },
  {
   "cell_type": "markdown",
   "id": "096055ed-76f0-4a59-9d37-52391815064a",
   "metadata": {},
   "source": [
    "# Vérifier pour un exemple en particulier (vérifier le retrieval d'une erreure du modèle) "
   ]
  },
  {
   "cell_type": "code",
   "execution_count": 55,
   "id": "3ed5ba07-62fb-4c2b-9b91-e0f3001ff65f",
   "metadata": {},
   "outputs": [
    {
     "name": "stdout",
     "output_type": "stream",
     "text": [
      "----- CONTEXTE RETOURNÉ -----\n",
      "[0] T06224061231_6\n",
      "Détermination du contingent d’heures supplémentaires\n",
      "\n",
      "Le présent accord a pour objet d’augmenter le contingent annuel d’heures supplémentaires, visé à l’article L. 3121-30 du Code du travail et de le fixer à 384 heures par année et par salarié.\n",
      "\n",
      "La période de référence pour le calcul du contingent annuel est l’année civile, soit du 1er janvier au 31 décembre.\n",
      "\n",
      "Ce contingent d’heures supplémentaires s’applique de plein droit à l’année civile au cours de laquelle le présent accord entre en vigueur, sans donner lieu à sa réduction prorata temporis.\n",
      "\n",
      "De même, il s’applique intégralement, sans réduction prorota temporis, pour les salariés intégrant ou sortant de l’entreprise au cours de l’année civile, ou pour les salariés en contrat à durée déterminée n’étant pas présents sur toute la période de référence. Chaque salarié dispose ainsi, quelle que soit la date de son entrée ou de sa sortie dans l’entreprise, d’un contingent annuel de 384 heures supplémentaires. \n",
      "\n",
      "Les heures supplémentaires effectuées dans le cadre de contingent annuel demeurent soumises au respect des dispositions légales et réglementaires applicables aux durées maximales de travail et durées minimales de repos.\n",
      "---\n",
      "[1] T06224061231_2\n",
      "Objet \n",
      "\n",
      "Le présent accord a pour objet de faciliter l’accomplissement d’heures supplémentaires en fixant un contingent destiné à répondre aux impératifs de l’entreprise, dont l’activité est sujette à fluctuation, afin de répondre au mieux aux demandes des clients.\n",
      "\n",
      "Il vise à déterminer le contingent annuel d’heures supplémentaires qui peuvent être effectuées par chaque salarié et à le fixer à un nombre supérieur aux 220 heures annuelles que prévoit la Loi.\n",
      "\n",
      "Les parties souhaitent rappeler la nécessité de garantir le respect des repos quotidien et hebdomadaire et de veiller régulièrement à ce que la charge de travail des salariés reste raisonnable pour leur permette de trouver un équilibre entre leur vie personnelle et leur vie professionnelle.\n",
      "\n",
      "Les parties signataires restent soucieuses d’améliorer la qualité de vie au travail des salariés.\n",
      "---\n"
     ]
    }
   ],
   "source": [
    "from pprint import pprint\n",
    "\n",
    "query = \"À combien est fixé le contingent d’heures supplémentaires ?\"\n",
    "retriever = vector_store.as_retriever(search_kwargs={\"k\": 2, \"filter\": {\"numdossier\": \"T06224061231\"}})\n",
    "results = retriever.invoke(query)\n",
    "\n",
    "print(\"----- CONTEXTE RETOURNÉ -----\")\n",
    "for i, doc in enumerate(results):\n",
    "    print(f\"[{i}] {doc.metadata['id']}\")\n",
    "    print(doc.page_content)\n",
    "    print(\"---\")\n"
   ]
  },
  {
   "cell_type": "markdown",
   "id": "dcb902b5-a22b-401c-b45b-ecc02d425035",
   "metadata": {},
   "source": [
    "# Afficher la matrice de confusion"
   ]
  },
  {
   "cell_type": "code",
   "execution_count": 58,
   "id": "f32af37c-7d43-4e3f-b233-be75147a2574",
   "metadata": {},
   "outputs": [
    {
     "data": {
      "image/png": "[encoded data removed]",
      "text/plain": [
       "<Figure size 600x500 with 2 Axes>"
      ]
     },
     "metadata": {},
     "output_type": "display_data"
    }
   ],
   "source": [
    "from sklearn.metrics import confusion_matrix, classification_report\n",
    "import pandas as pd\n",
    "import numpy as np\n",
    "import seaborn as sns\n",
    "import matplotlib.pyplot as plt\n",
    "\n",
    "\n",
    "comparaison_df[\"contingent_annot\"] = comparaison_df[\"contingent_annot\"].replace(\"\", np.nan)\n",
    "comparaison_df[\"contingent_llm\"] = comparaison_df[\"contingent_llm\"].replace(\"\", np.nan)\n",
    "y_true = comparaison_df[\"contingent_annot\"]\n",
    "y_pred = comparaison_df[\"contingent_llm\"]\n",
    "\n",
    "#y_true : 0 = valeur, 1 = NA\n",
    "y_true_etiquette = y_true.isna().astype(int)\n",
    "\n",
    "#y_pred : 1 = NA ou valeur fausse, 0 = bonne valeur\n",
    "y_pred_etiquette = []\n",
    "\n",
    "for true_val, pred_val in zip(y_true, y_pred):\n",
    "    if pd.isna(pred_val):\n",
    "        y_pred_etiquette.append(1)  #prédit NA\n",
    "    elif pd.isna(true_val):\n",
    "        y_pred_etiquette.append(0)  #rien attendu, valeur prédite →on laisse comme 0(comme FP)\n",
    "    elif pred_val != true_val:\n",
    "        y_pred_etiquette.append(1)  #mauvaise valeur prédite →considéré comme NA (erreur)\n",
    "    else:\n",
    "        y_pred_etiquette.append(0)  #bonne prédiction\n",
    "\n",
    "#Matrice de confusion\n",
    "conf_matrix = confusion_matrix(y_true_etiquette, y_pred_etiquette, labels=[0, 1])\n",
    "plt.figure(figsize=(6, 5))\n",
    "sns.heatmap(conf_matrix, annot=True, fmt=\"d\", cmap=\"Blues\",\n",
    "            xticklabels=[\"1 (valeur correcte)\", \"0 (NA ou erreur)\"],\n",
    "            yticklabels=[\"1 (valeur attendue)\", \"0 (NA attendue) \"])\n",
    "plt.xlabel(\"Prédit\")\n",
    "plt.ylabel(\"Vérité\")\n",
    "plt.title(\"Matrice de confusion\")\n",
    "plt.show()\n",
    "\n",
    "\n",
    "#Ajouter au df\n",
    "comparaison_df[\"y_true_etiquette\"] = y_true_etiquette\n",
    "comparaison_df[\"y_pred_etiquette\"] = y_pred_etiquette\n"
   ]
  },
  {
   "cell_type": "code",
   "execution_count": 57,
   "id": "2c8531c5-7e9f-4c6b-8851-b57accd4eeee",
   "metadata": {},
   "outputs": [
    {
     "name": "stdout",
     "output_type": "stream",
     "text": [
      "              precision    recall  f1-score   support\n",
      "\n",
      "      valeur       0.97      0.96      0.96        70\n",
      "          NA       0.90      0.93      0.92        30\n",
      "\n",
      "    accuracy                           0.95       100\n",
      "   macro avg       0.94      0.95      0.94       100\n",
      "weighted avg       0.95      0.95      0.95       100\n",
      "\n"
     ]
    }
   ],
   "source": [
    "print(classification_report(y_true_etiquette, y_pred_etiquette, target_names=[\"valeur\", \"NA\"]))"
   ]
  },
  {
   "cell_type": "code",
   "execution_count": null,
   "id": "5b416cd4-386a-491f-bbfb-def3452961fc",
   "metadata": {},
   "outputs": [],
   "source": []
  }
 ],
 "metadata": {
  "kernelspec": {
   "display_name": "Python (uv)",
   "language": "python",
   "name": "my-uv-env"
  },
  "language_info": {
   "codemirror_mode": {
    "name": "ipython",
    "version": 3
   },
   "file_extension": ".py",
   "mimetype": "text/x-python",
   "name": "python",
   "nbconvert_exporter": "python",
   "pygments_lexer": "ipython3",
   "version": "3.13.5"
  }
 },
 "nbformat": 4,
 "nbformat_minor": 5
}
